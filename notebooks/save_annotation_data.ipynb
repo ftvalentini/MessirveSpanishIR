{
 "cells": [
  {
   "cell_type": "code",
   "execution_count": 1,
   "metadata": {},
   "outputs": [],
   "source": [
    "import pandas as pd\n",
    "import numpy as np\n",
    "import matplotlib.pyplot as plt\n",
    "\n",
    "pd.options.display.max_columns = 100\n",
    "\n",
    "df_qrels = pd.read_csv(\"../runs/google_questions/qrels.csv\")"
   ]
  },
  {
   "cell_type": "code",
   "execution_count": 2,
   "metadata": {},
   "outputs": [
    {
     "data": {
      "text/html": [
       "<div>\n",
       "<style scoped>\n",
       "    .dataframe tbody tr th:only-of-type {\n",
       "        vertical-align: middle;\n",
       "    }\n",
       "\n",
       "    .dataframe tbody tr th {\n",
       "        vertical-align: top;\n",
       "    }\n",
       "\n",
       "    .dataframe thead th {\n",
       "        text-align: right;\n",
       "    }\n",
       "</style>\n",
       "<table border=\"1\" class=\"dataframe\">\n",
       "  <thead>\n",
       "    <tr style=\"text-align: right;\">\n",
       "      <th></th>\n",
       "      <th>country</th>\n",
       "      <th>id</th>\n",
       "      <th>query</th>\n",
       "      <th>docid</th>\n",
       "      <th>docid_text</th>\n",
       "      <th>query_date</th>\n",
       "      <th>answer_date</th>\n",
       "      <th>match_score</th>\n",
       "      <th>expanded_search</th>\n",
       "      <th>answer_type</th>\n",
       "      <th>split</th>\n",
       "      <th>id_country</th>\n",
       "    </tr>\n",
       "  </thead>\n",
       "  <tbody>\n",
       "    <tr>\n",
       "      <th>0</th>\n",
       "      <td>mx</td>\n",
       "      <td>4</td>\n",
       "      <td>1 kg a cuantos miligramos equivale</td>\n",
       "      <td>1595#34</td>\n",
       "      <td>1 \"kilogramo\" es equivalente a:</td>\n",
       "      <td>2024-04-10</td>\n",
       "      <td>2024-04-17</td>\n",
       "      <td>0.6829</td>\n",
       "      <td>False</td>\n",
       "      <td>feat_snip</td>\n",
       "      <td>train</td>\n",
       "      <td>NaN</td>\n",
       "    </tr>\n",
       "    <tr>\n",
       "      <th>1</th>\n",
       "      <td>mx</td>\n",
       "      <td>5</td>\n",
       "      <td>1 kilo a cuantos miligramos equivale</td>\n",
       "      <td>1595#34</td>\n",
       "      <td>1 \"kilogramo\" es equivalente a:</td>\n",
       "      <td>2024-04-10</td>\n",
       "      <td>2024-04-17</td>\n",
       "      <td>0.6829</td>\n",
       "      <td>False</td>\n",
       "      <td>feat_snip</td>\n",
       "      <td>train</td>\n",
       "      <td>NaN</td>\n",
       "    </tr>\n",
       "  </tbody>\n",
       "</table>\n",
       "</div>"
      ],
      "text/plain": [
       "  country  id                                 query    docid  \\\n",
       "0      mx   4    1 kg a cuantos miligramos equivale  1595#34   \n",
       "1      mx   5  1 kilo a cuantos miligramos equivale  1595#34   \n",
       "\n",
       "                        docid_text  query_date answer_date  match_score  \\\n",
       "0  1 \"kilogramo\" es equivalente a:  2024-04-10  2024-04-17       0.6829   \n",
       "1  1 \"kilogramo\" es equivalente a:  2024-04-10  2024-04-17       0.6829   \n",
       "\n",
       "   expanded_search answer_type  split  id_country  \n",
       "0            False   feat_snip  train         NaN  \n",
       "1            False   feat_snip  train         NaN  "
      ]
     },
     "execution_count": 2,
     "metadata": {},
     "output_type": "execute_result"
    }
   ],
   "source": [
    "df_qrels.head(2)"
   ]
  },
  {
   "cell_type": "markdown",
   "metadata": {},
   "source": [
    "### Questions for quality assessment"
   ]
  },
  {
   "cell_type": "code",
   "execution_count": 7,
   "metadata": {},
   "outputs": [],
   "source": [
    "# Consider only questions from \"general\", \"test\":\n",
    "df_quality = df_qrels.query(\"country == 'full' & split == 'test'\").copy()"
   ]
  },
  {
   "cell_type": "code",
   "execution_count": 8,
   "metadata": {},
   "outputs": [
    {
     "data": {
      "application/vnd.jupyter.widget-view+json": {
       "model_id": "6898b47f2994490d8ece19a04b461a24",
       "version_major": 2,
       "version_minor": 0
      },
      "text/plain": [
       "Resolving data files:   0%|          | 0/29 [00:00<?, ?it/s]"
      ]
     },
     "metadata": {},
     "output_type": "display_data"
    }
   ],
   "source": [
    "# Add the title of the article:\n",
    "import datasets\n",
    "\n",
    "collection_dataset = datasets.load_dataset(\"../runs/corpora/eswiki-20240401-corpus\")\n",
    "collection_dataset = collection_dataset[\"train\"].select_columns([\"docid\", \"title\"])\n",
    "df_quality = df_quality.merge(collection_dataset.to_pandas(), left_on=\"docid\", right_on=\"docid\")\n",
    "df_quality[\"text\"] = df_quality[\"title\"] + \". \" + df_quality[\"docid_text\"]"
   ]
  },
  {
   "cell_type": "code",
   "execution_count": 9,
   "metadata": {},
   "outputs": [
    {
     "data": {
      "text/html": [
       "<div>\n",
       "<style scoped>\n",
       "    .dataframe tbody tr th:only-of-type {\n",
       "        vertical-align: middle;\n",
       "    }\n",
       "\n",
       "    .dataframe tbody tr th {\n",
       "        vertical-align: top;\n",
       "    }\n",
       "\n",
       "    .dataframe thead th {\n",
       "        text-align: right;\n",
       "    }\n",
       "</style>\n",
       "<table border=\"1\" class=\"dataframe\">\n",
       "  <thead>\n",
       "    <tr style=\"text-align: right;\">\n",
       "      <th></th>\n",
       "      <th>id</th>\n",
       "      <th>query</th>\n",
       "      <th>text</th>\n",
       "    </tr>\n",
       "  </thead>\n",
       "  <tbody>\n",
       "    <tr>\n",
       "      <th>0</th>\n",
       "      <td>5332643</td>\n",
       "      <td>en grecia quién aplico la democracia radical</td>\n",
       "      <td>Efialtes de Atenas. Efialtes es considerado po...</td>\n",
       "    </tr>\n",
       "    <tr>\n",
       "      <th>1</th>\n",
       "      <td>5332652</td>\n",
       "      <td>1 bar a cuantos litros equivale</td>\n",
       "      <td>Volumen molar. Experimentalmente y mediante la...</td>\n",
       "    </tr>\n",
       "  </tbody>\n",
       "</table>\n",
       "</div>"
      ],
      "text/plain": [
       "        id                                          query  \\\n",
       "0  5332643   en grecia quién aplico la democracia radical   \n",
       "1  5332652                1 bar a cuantos litros equivale   \n",
       "\n",
       "                                                text  \n",
       "0  Efialtes de Atenas. Efialtes es considerado po...  \n",
       "1  Volumen molar. Experimentalmente y mediante la...  "
      ]
     },
     "execution_count": 9,
     "metadata": {},
     "output_type": "execute_result"
    }
   ],
   "source": [
    "df_quality = df_quality[[\"id\", \"query\", \"text\"]].copy()\n",
    "df_quality.head(2)"
   ]
  },
  {
   "cell_type": "code",
   "execution_count": 13,
   "metadata": {},
   "outputs": [
    {
     "data": {
      "text/html": [
       "<div>\n",
       "<style scoped>\n",
       "    .dataframe tbody tr th:only-of-type {\n",
       "        vertical-align: middle;\n",
       "    }\n",
       "\n",
       "    .dataframe tbody tr th {\n",
       "        vertical-align: top;\n",
       "    }\n",
       "\n",
       "    .dataframe thead th {\n",
       "        text-align: right;\n",
       "    }\n",
       "</style>\n",
       "<table border=\"1\" class=\"dataframe\">\n",
       "  <thead>\n",
       "    <tr style=\"text-align: right;\">\n",
       "      <th></th>\n",
       "      <th>id</th>\n",
       "      <th>query</th>\n",
       "      <th>text</th>\n",
       "    </tr>\n",
       "  </thead>\n",
       "  <tbody>\n",
       "    <tr>\n",
       "      <th>0</th>\n",
       "      <td>14</td>\n",
       "      <td>10 ejemplos de compuestos cuaternarios</td>\n",
       "      <td>Catión de amonio cuaternario. Se ha demostrado...</td>\n",
       "    </tr>\n",
       "    <tr>\n",
       "      <th>1</th>\n",
       "      <td>3124584</td>\n",
       "      <td>que virus mata el amonio cuaternario</td>\n",
       "      <td>Catión de amonio cuaternario. Se ha demostrado...</td>\n",
       "    </tr>\n",
       "  </tbody>\n",
       "</table>\n",
       "</div>"
      ],
      "text/plain": [
       "        id                                   query  \\\n",
       "0       14  10 ejemplos de compuestos cuaternarios   \n",
       "1  3124584    que virus mata el amonio cuaternario   \n",
       "\n",
       "                                                text  \n",
       "0  Catión de amonio cuaternario. Se ha demostrado...  \n",
       "1  Catión de amonio cuaternario. Se ha demostrado...  "
      ]
     },
     "execution_count": 13,
     "metadata": {},
     "output_type": "execute_result"
    }
   ],
   "source": [
    "df_quality = df_quality[[\"id\", \"query\", \"text\"]].copy()\n",
    "df_quality.head(2)"
   ]
  },
  {
   "cell_type": "code",
   "execution_count": 18,
   "metadata": {},
   "outputs": [],
   "source": [
    "from pathlib import Path\n",
    "\n",
    "df_all = df_quality.sample(50, random_state=33)\n",
    "\n",
    "outdir = \"../runs/google_questions/quality_annotation\"\n",
    "Path(outdir).mkdir(parents=True, exist_ok=True)\n",
    "\n",
    "annotators = [\"A1\", \"A2\", \"A3\", \"A4\"]\n",
    "\n",
    "ids_done = df_all[\"id\"].tolist()\n",
    "dfs_annotators = {}\n",
    "for annotator in annotators:\n",
    "    dfs_annotators[annotator] = df_quality[~df_quality[\"id\"].isin(ids_done)].sample(200, random_state=33)\n",
    "    ids_done.extend(dfs_annotators[annotator][\"id\"].tolist())\n",
    "    dfs_annotators[annotator] = pd.concat(\n",
    "        [df_all, dfs_annotators[annotator]]).sample(frac=1, random_state=ord(annotator[0]))\n",
    "    dfs_annotators[annotator].to_csv(f\"{outdir}/{annotator}.csv\", index=False)\n"
   ]
  }
 ],
 "metadata": {
  "kernelspec": {
   "display_name": "spanish-ir",
   "language": "python",
   "name": "python3"
  },
  "language_info": {
   "codemirror_mode": {
    "name": "ipython",
    "version": 3
   },
   "file_extension": ".py",
   "mimetype": "text/x-python",
   "name": "python",
   "nbconvert_exporter": "python",
   "pygments_lexer": "ipython3",
   "version": "3.10.14"
  }
 },
 "nbformat": 4,
 "nbformat_minor": 2
}
