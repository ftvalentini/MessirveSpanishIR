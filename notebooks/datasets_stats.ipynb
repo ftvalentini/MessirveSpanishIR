{
 "cells": [
  {
   "cell_type": "markdown",
   "metadata": {},
   "source": [
    "Datasets comparison"
   ]
  },
  {
   "cell_type": "code",
   "execution_count": 1,
   "metadata": {},
   "outputs": [],
   "source": [
    "import os\n",
    "import gzip\n",
    "import json\n",
    "from pathlib import Path\n",
    "\n",
    "import pandas as pd\n",
    "import datasets\n",
    "from tqdm import tqdm"
   ]
  },
  {
   "cell_type": "markdown",
   "metadata": {},
   "source": [
    "### Data\n",
    "\n",
    "Create one df_* for each dataset."
   ]
  },
  {
   "cell_type": "markdown",
   "metadata": {},
   "source": [
    "#### MIRACL\n",
    "\n",
    "To download the whole dataset:\n",
    "\n",
    "```bash\n",
    "# Requires Access Token authentication:\n",
    "mkdir -p data &&\n",
    "cd data && \n",
    "git clone https://huggingface.co/datasets/miracl/miracl-corpus && \n",
    "git clone https://huggingface.co/datasets/miracl/miracl &&\n",
    "cd -\n",
    "```\n",
    "\n",
    "NOTE this downloads all subsets -- it might not be the best or only way to do this."
   ]
  },
  {
   "cell_type": "code",
   "execution_count": 3,
   "metadata": {},
   "outputs": [
    {
     "name": "stderr",
     "output_type": "stream",
     "text": [
      "100%|██████████| 21/21 [00:46<00:00,  2.22s/it]\n"
     ]
    },
    {
     "name": "stdout",
     "output_type": "stream",
     "text": [
      "# docs: 10373953\n"
     ]
    },
    {
     "name": "stderr",
     "output_type": "stream",
     "text": [
      "100%|██████████| 21/21 [00:45<00:00,  2.15s/it]\n"
     ]
    },
    {
     "name": "stdout",
     "output_type": "stream",
     "text": [
      "# docs: 10373953\n"
     ]
    }
   ],
   "source": [
    "# miracl_corpus = datasets.load_dataset(\"../data/miracl-corpus\", \"es\", trust_remote_code=True) # NOTE this fails... so we use a function\n",
    "# miracl_corpus = datasets.load_dataset('miracl/miracl-corpus', \"es\", trust_remote_code=True) # this also fails...\n",
    "# df_docs = miracl_corpus[\"train\"].to_pandas()\n",
    "\n",
    "def read_miracl_corpus():\n",
    "    files = sorted(list(Path(\"../data/miracl-corpus/miracl-corpus-v1.0-es/\").glob(\"docs-*.jsonl.gz\")))\n",
    "    data = []\n",
    "    for file in tqdm(files):\n",
    "        with gzip.open(file, \"rb\") as f:\n",
    "            for line in f:\n",
    "                line_str = line.decode(\"utf-8\").strip()\n",
    "                line_json = json.loads(line_str)\n",
    "                data.append(line_json)\n",
    "    df = pd.DataFrame(data)\n",
    "    return df\n",
    "\n",
    "\n",
    "def get_miracl_dataset(split: str) -> pd.DataFrame:\n",
    "    df_qrels = pd.read_csv(\n",
    "        f\"../data/miracl/miracl-v1.0-es/qrels/qrels.miracl-v1.0-es-{split}.tsv\",\n",
    "        sep=\"\\t\", header=None, names=[\"id\", \"q0\", \"docid\", \"rel\"],\n",
    "    )\n",
    "    df_queries = pd.read_csv(\n",
    "        f\"../data/miracl/miracl-v1.0-es/topics/topics.miracl-v1.0-es-{split}.tsv\",\n",
    "        sep=\"\\t\", header=None, names=[\"id\", \"query\"],\n",
    "    )\n",
    "    df_docs = read_miracl_corpus()\n",
    "    print(f\"# docs: {df_docs.shape[0]}\")\n",
    "    df_miracl = df_qrels.merge(df_queries, left_on=\"id\", right_on=\"id\").merge(\n",
    "        df_docs, left_on=\"docid\", right_on=\"docid\"\n",
    "    )\n",
    "    return df_miracl\n",
    "\n",
    "df_miracl = pd.DataFrame()\n",
    "for split in [\"train\", \"dev\"]:\n",
    "    df_tmp = get_miracl_dataset(split)\n",
    "    df_tmp[\"split\"] = split\n",
    "    df_miracl = pd.concat([df_miracl, df_tmp])\n",
    "\n",
    "del df_tmp\n",
    "# df_miracl_test = get_miracl_dataset(\"test\") # NOTE we don't have the test set"
   ]
  },
  {
   "cell_type": "code",
   "execution_count": 4,
   "metadata": {},
   "outputs": [
    {
     "name": "stdout",
     "output_type": "stream",
     "text": [
      "Train 9.96\n",
      "Dev 9.94\n",
      "Test 9.95\n"
     ]
    }
   ],
   "source": [
    "# J/Docs counts, according to paper https://arxiv.org/pdf/2210.09984:\n",
    "print(f\"Train {21531 / 2162:.2f}\")\n",
    "print(f\"Dev {6443 / 648:.2f}\")\n",
    "print(f\"Test {15074 / 1515:.2f}\")"
   ]
  },
  {
   "cell_type": "code",
   "execution_count": 5,
   "metadata": {},
   "outputs": [
    {
     "data": {
      "text/html": [
       "<div>\n",
       "<style scoped>\n",
       "    .dataframe tbody tr th:only-of-type {\n",
       "        vertical-align: middle;\n",
       "    }\n",
       "\n",
       "    .dataframe tbody tr th {\n",
       "        vertical-align: top;\n",
       "    }\n",
       "\n",
       "    .dataframe thead th {\n",
       "        text-align: right;\n",
       "    }\n",
       "</style>\n",
       "<table border=\"1\" class=\"dataframe\">\n",
       "  <thead>\n",
       "    <tr style=\"text-align: right;\">\n",
       "      <th></th>\n",
       "      <th>id</th>\n",
       "      <th>q0</th>\n",
       "      <th>docid</th>\n",
       "      <th>rel</th>\n",
       "      <th>query</th>\n",
       "      <th>title</th>\n",
       "      <th>text</th>\n",
       "      <th>split</th>\n",
       "    </tr>\n",
       "  </thead>\n",
       "  <tbody>\n",
       "    <tr>\n",
       "      <th>0</th>\n",
       "      <td>10000698#0</td>\n",
       "      <td>Q0</td>\n",
       "      <td>541735#4</td>\n",
       "      <td>1</td>\n",
       "      <td>¿Cómo se forman los nombres coreanos?</td>\n",
       "      <td>Onomástica coreana</td>\n",
       "      <td>En el curso de la historia coreana, el uso de ...</td>\n",
       "      <td>train</td>\n",
       "    </tr>\n",
       "    <tr>\n",
       "      <th>1</th>\n",
       "      <td>10000698#0</td>\n",
       "      <td>Q0</td>\n",
       "      <td>541735#17</td>\n",
       "      <td>1</td>\n",
       "      <td>¿Cómo se forman los nombres coreanos?</td>\n",
       "      <td>Onomástica coreana</td>\n",
       "      <td>Antes de la adopción de nombres al estilo chin...</td>\n",
       "      <td>train</td>\n",
       "    </tr>\n",
       "  </tbody>\n",
       "</table>\n",
       "</div>"
      ],
      "text/plain": [
       "           id  q0      docid  rel                                  query  \\\n",
       "0  10000698#0  Q0   541735#4    1  ¿Cómo se forman los nombres coreanos?   \n",
       "1  10000698#0  Q0  541735#17    1  ¿Cómo se forman los nombres coreanos?   \n",
       "\n",
       "                title                                               text  \\\n",
       "0  Onomástica coreana  En el curso de la historia coreana, el uso de ...   \n",
       "1  Onomástica coreana  Antes de la adopción de nombres al estilo chin...   \n",
       "\n",
       "   split  \n",
       "0  train  \n",
       "1  train  "
      ]
     },
     "execution_count": 5,
     "metadata": {},
     "output_type": "execute_result"
    }
   ],
   "source": [
    "df_miracl.head(2)"
   ]
  },
  {
   "cell_type": "code",
   "execution_count": 6,
   "metadata": {},
   "outputs": [
    {
     "name": "stdout",
     "output_type": "stream",
     "text": [
      "train queries: 2161\n",
      "dev queries: 648\n"
     ]
    }
   ],
   "source": [
    "for split in [\"train\", \"dev\"]:\n",
    "    print(f\"{split} queries: {df_miracl[df_miracl['split'] == split]['query'].nunique()}\")"
   ]
  },
  {
   "cell_type": "markdown",
   "metadata": {},
   "source": [
    "#### SQAC (test)"
   ]
  },
  {
   "cell_type": "code",
   "execution_count": 7,
   "metadata": {},
   "outputs": [],
   "source": [
    "# sqac = datasets.load_dataset(\"PlanTL-GOB-ES/SQAC\", split=\"test\", trust_remote_code=True) # NOTE this fails\n",
    "# sqac = datasets.load_dataset(\n",
    "#     \"PlanTL-GOB-ES/SQAC\", split=\"test\", revision=\"95f30249a0b52dd9eb67b2423cd20fcdcb8be79d\",\n",
    "#     trust_remote_code=True) # NOTE this also fails\n",
    "\n",
    "# We replicate loading script from HuggingFace:\n",
    "def sqac_examples(sqac_data):\n",
    "    \"\"\"This function returns the examples in the raw (text) form.\"\"\"\n",
    "    for article in sqac_data:\n",
    "        title = article.get(\"title\", \"\").strip()\n",
    "        for paragraph in article[\"paragraphs\"]:\n",
    "            context = paragraph[\"context\"].strip()\n",
    "            for qa in paragraph[\"qas\"]:\n",
    "                question = qa[\"question\"].strip()\n",
    "                id_ = qa[\"id\"]\n",
    "\n",
    "                answer_starts = [answer[\"answer_start\"] for answer in qa[\"answers\"]]\n",
    "                answers = [answer[\"text\"].strip() for answer in qa[\"answers\"]]\n",
    "\n",
    "                # Features currently used are \"context\", \"question\", and \"answers\".\n",
    "                # Others are extracted here for the ease of future expansions.\n",
    "                yield id_, {\n",
    "                    \"title\": title,\n",
    "                    \"context\": context,\n",
    "                    \"question\": question,\n",
    "                    \"id\": id_,\n",
    "                    \"answers\": {\n",
    "                        \"answer_start\": answer_starts,\n",
    "                        \"text\": answers,\n",
    "                    },\n",
    "                }\n",
    "\n",
    "def get_sqac(split):\n",
    "    sqac = pd.read_json(f\"https://huggingface.co/datasets/PlanTL-GOB-ES/SQAC/resolve/main/{split}.json\")\n",
    "    sqac_data = sqac[\"data\"].tolist()\n",
    "    examples = list(sqac_examples(sqac_data))\n",
    "    formatted_data = [\n",
    "        {\n",
    "            'id': item[0],\n",
    "            'title': item[1]['title'],\n",
    "            'text': item[1]['context'],\n",
    "            'query': item[1]['question'],\n",
    "        }\n",
    "        for item in examples\n",
    "    ]\n",
    "    df_sqac = pd.json_normalize(formatted_data)\n",
    "    return df_sqac\n",
    "\n",
    "df_sqac = pd.DataFrame()\n",
    "for split in [\"train\", \"dev\", \"test\"]:\n",
    "    df_tmp = get_sqac(split)\n",
    "    df_tmp[\"split\"] = split\n",
    "    df_sqac = pd.concat([df_sqac, df_tmp])\n",
    "\n",
    "del df_tmp\n",
    "\n",
    "# #docs is the number of unique docs in train+test+dev, according to paper 6,247\n",
    "# del sqac, sqac_data, examples, formatted_data"
   ]
  },
  {
   "cell_type": "code",
   "execution_count": 8,
   "metadata": {},
   "outputs": [
    {
     "data": {
      "text/html": [
       "<div>\n",
       "<style scoped>\n",
       "    .dataframe tbody tr th:only-of-type {\n",
       "        vertical-align: middle;\n",
       "    }\n",
       "\n",
       "    .dataframe tbody tr th {\n",
       "        vertical-align: top;\n",
       "    }\n",
       "\n",
       "    .dataframe thead th {\n",
       "        text-align: right;\n",
       "    }\n",
       "</style>\n",
       "<table border=\"1\" class=\"dataframe\">\n",
       "  <thead>\n",
       "    <tr style=\"text-align: right;\">\n",
       "      <th></th>\n",
       "      <th>id</th>\n",
       "      <th>title</th>\n",
       "      <th>text</th>\n",
       "      <th>query</th>\n",
       "      <th>split</th>\n",
       "    </tr>\n",
       "  </thead>\n",
       "  <tbody>\n",
       "    <tr>\n",
       "      <th>0</th>\n",
       "      <td>6cf3dcd6-b5a3-4516-8f9e-c5c1c6b66628</td>\n",
       "      <td>Historia de Japón</td>\n",
       "      <td>La historia de Japón (日本の歴史 o 日本史, Nihon no re...</td>\n",
       "      <td>¿Qué influencia convirtió Japón en una nación ...</td>\n",
       "      <td>train</td>\n",
       "    </tr>\n",
       "    <tr>\n",
       "      <th>1</th>\n",
       "      <td>2663226e-e652-43a2-a6ba-c1fd02a1df31</td>\n",
       "      <td>Historia de Japón</td>\n",
       "      <td>La historia de Japón (日本の歴史 o 日本史, Nihon no re...</td>\n",
       "      <td>¿Cuándo se detuvo el expansionismo de Japón?</td>\n",
       "      <td>train</td>\n",
       "    </tr>\n",
       "  </tbody>\n",
       "</table>\n",
       "</div>"
      ],
      "text/plain": [
       "                                     id              title  \\\n",
       "0  6cf3dcd6-b5a3-4516-8f9e-c5c1c6b66628  Historia de Japón   \n",
       "1  2663226e-e652-43a2-a6ba-c1fd02a1df31  Historia de Japón   \n",
       "\n",
       "                                                text  \\\n",
       "0  La historia de Japón (日本の歴史 o 日本史, Nihon no re...   \n",
       "1  La historia de Japón (日本の歴史 o 日本史, Nihon no re...   \n",
       "\n",
       "                                               query  split  \n",
       "0  ¿Qué influencia convirtió Japón en una nación ...  train  \n",
       "1       ¿Cuándo se detuvo el expansionismo de Japón?  train  "
      ]
     },
     "execution_count": 8,
     "metadata": {},
     "output_type": "execute_result"
    }
   ],
   "source": [
    "df_sqac.head(2)"
   ]
  },
  {
   "cell_type": "code",
   "execution_count": 9,
   "metadata": {},
   "outputs": [
    {
     "name": "stdout",
     "output_type": "stream",
     "text": [
      "train: 14934 queries, 15036 docs, J/D: 1.01\n",
      "dev: 1861 queries, 1864 docs, J/D: 1.00\n",
      "test: 1908 queries, 1910 docs, J/D: 1.00\n"
     ]
    }
   ],
   "source": [
    "for split in [\"train\", \"dev\", \"test\"]:\n",
    "    n_queries = df_sqac[df_sqac[\"split\"] == split][\"query\"].nunique()\n",
    "    n_docs = len(df_sqac[df_sqac[\"split\"] == split][\"text\"])\n",
    "    print(f\"{split}: {n_queries} queries, {n_docs} docs, J/D: {n_docs / n_queries:.2f}\")"
   ]
  },
  {
   "cell_type": "markdown",
   "metadata": {},
   "source": [
    "#### mMARCO"
   ]
  },
  {
   "cell_type": "code",
   "execution_count": 13,
   "metadata": {},
   "outputs": [
    {
     "name": "stderr",
     "output_type": "stream",
     "text": [
      "Repo card metadata block was not found. Setting CardData to empty.\n"
     ]
    },
    {
     "name": "stdout",
     "output_type": "stream",
     "text": [
      "# docs: 8841823\n"
     ]
    },
    {
     "name": "stderr",
     "output_type": "stream",
     "text": [
      "Repo card metadata block was not found. Setting CardData to empty.\n"
     ]
    },
    {
     "name": "stdout",
     "output_type": "stream",
     "text": [
      "(7437, 6)\n"
     ]
    }
   ],
   "source": [
    "# qrels\n",
    "df_qrels = pd.read_csv(\n",
    "    \"https://huggingface.co/datasets/unicamp-dl/mmarco/resolve/main/data/qrels.dev.small.tsv\",\n",
    "    # \"https://huggingface.co/datasets/unicamp-dl/mmarco/resolve/main/data/qrels.dev.tsv\",\n",
    "    sep=\"\\t\", header=None, names=[\"id\", \"q0\", \"docid\", \"rel\"],\n",
    ")\n",
    "# df_qrels[\"id\"].value_counts() # NOTE some queries have multiple relevant docs\n",
    "\n",
    "# collection\n",
    "mmarco_collection = datasets.load_dataset('unicamp-dl/mmarco', 'collection-spanish', trust_remote_code=True)\n",
    "df_docs = mmarco_collection[\"collection\"].to_pandas().rename(\n",
    "    columns={\"id\": \"docid\"}\n",
    ")\n",
    "print(f\"# docs: {df_docs.shape[0]}\")\n",
    "\n",
    "# queries\n",
    "mmarco_queries = datasets.load_dataset('unicamp-dl/mmarco', 'queries-spanish', trust_remote_code=True)\n",
    "df_queries = mmarco_queries[\"dev\"].to_pandas().rename(\n",
    "    columns={\"text\": \"query\"}\n",
    ")\n",
    "\n",
    "df_mmarco = df_queries.merge(df_qrels, left_on=\"id\", right_on=\"id\", how=\"left\").merge(\n",
    "    df_docs, left_on=\"docid\", right_on=\"docid\", how=\"left\"\n",
    ")\n",
    "print(df_mmarco.shape)\n",
    "\n",
    "del df_qrels, df_docs, df_queries, mmarco_collection, mmarco_queries"
   ]
  },
  {
   "cell_type": "code",
   "execution_count": 8,
   "metadata": {},
   "outputs": [
    {
     "data": {
      "text/html": [
       "<div>\n",
       "<style scoped>\n",
       "    .dataframe tbody tr th:only-of-type {\n",
       "        vertical-align: middle;\n",
       "    }\n",
       "\n",
       "    .dataframe tbody tr th {\n",
       "        vertical-align: top;\n",
       "    }\n",
       "\n",
       "    .dataframe thead th {\n",
       "        text-align: right;\n",
       "    }\n",
       "</style>\n",
       "<table border=\"1\" class=\"dataframe\">\n",
       "  <thead>\n",
       "    <tr style=\"text-align: right;\">\n",
       "      <th></th>\n",
       "      <th>id</th>\n",
       "      <th>query</th>\n",
       "      <th>q0</th>\n",
       "      <th>docid</th>\n",
       "      <th>rel</th>\n",
       "      <th>text</th>\n",
       "    </tr>\n",
       "  </thead>\n",
       "  <tbody>\n",
       "    <tr>\n",
       "      <th>0</th>\n",
       "      <td>1048585</td>\n",
       "      <td>que es el hermano de paula deen</td>\n",
       "      <td>0</td>\n",
       "      <td>7187158</td>\n",
       "      <td>1</td>\n",
       "      <td>Paula Deen y su hermano Earl W. Bubba Hiers es...</td>\n",
       "    </tr>\n",
       "    <tr>\n",
       "      <th>1</th>\n",
       "      <td>2</td>\n",
       "      <td>Definición del receptor de andrógenos</td>\n",
       "      <td>0</td>\n",
       "      <td>4339068</td>\n",
       "      <td>1</td>\n",
       "      <td>El receptor de andrógenos (AR), también conoci...</td>\n",
       "    </tr>\n",
       "  </tbody>\n",
       "</table>\n",
       "</div>"
      ],
      "text/plain": [
       "        id                                   query  q0    docid  rel  \\\n",
       "0  1048585         que es el hermano de paula deen   0  7187158    1   \n",
       "1        2   Definición del receptor de andrógenos   0  4339068    1   \n",
       "\n",
       "                                                text  \n",
       "0  Paula Deen y su hermano Earl W. Bubba Hiers es...  \n",
       "1  El receptor de andrógenos (AR), también conoci...  "
      ]
     },
     "execution_count": 8,
     "metadata": {},
     "output_type": "execute_result"
    }
   ],
   "source": [
    "df_mmarco.head(2)"
   ]
  },
  {
   "cell_type": "code",
   "execution_count": 61,
   "metadata": {},
   "outputs": [
    {
     "name": "stdout",
     "output_type": "stream",
     "text": [
      "Dev\n",
      "#Q: 6979\n",
      "#J: 7437\n",
      "#J/#Q: 1.07\n"
     ]
    }
   ],
   "source": [
    "print(\"Dev\")\n",
    "print(f\"#Q: {df_mmarco['query'].nunique()}\")\n",
    "print(f\"#J: {df_mmarco['docid'].__len__()}\")\n",
    "print(f\"#J/#Q: {df_mmarco['docid'].__len__() / df_mmarco['query'].nunique():.2f}\")\n",
    "\n",
    "# df_tmp = pd.read_csv(\n",
    "#     \"https://huggingface.co/datasets/unicamp-dl/mmarco/resolve/main/data/qrels.dev.small.tsv\",\n",
    "#     sep=\"\\t\", header=None, names=[\"id\", \"q0\", \"docid\", \"rel\"],\n",
    "# )\n",
    "# print(f\"#Q: {df_tmp['id'].nunique()}, #D: {df_tmp['docid'].__len__()}\")\n",
    "# print(f\"#J/#Q: {df_tmp['docid'].__len__() / df_tmp['id'].nunique():.2f}\")"
   ]
  },
  {
   "cell_type": "code",
   "execution_count": 35,
   "metadata": {},
   "outputs": [
    {
     "name": "stdout",
     "output_type": "stream",
     "text": [
      "Train\n"
     ]
    },
    {
     "name": "stderr",
     "output_type": "stream",
     "text": [
      "Repo card metadata block was not found. Setting CardData to empty.\n"
     ]
    }
   ],
   "source": [
    "print(\"Train\")\n",
    "df_tmp = pd.read_csv(\n",
    "    \"https://huggingface.co/datasets/unicamp-dl/mmarco/resolve/main/data/triples.train.ids.small.tsv\",\n",
    "    sep=\"\\t\", header=None, names=[\"query\", \"positive\", \"negative\"],\n",
    ")\n",
    "df_queries_tmp = datasets.load_dataset(\n",
    "    \"unicamp-dl/mmarco\", \"queries-spanish\", trust_remote_code=True\n",
    ")[\"train\"].to_pandas()"
   ]
  },
  {
   "cell_type": "code",
   "execution_count": 40,
   "metadata": {},
   "outputs": [
    {
     "data": {
      "text/html": [
       "<div>\n",
       "<style scoped>\n",
       "    .dataframe tbody tr th:only-of-type {\n",
       "        vertical-align: middle;\n",
       "    }\n",
       "\n",
       "    .dataframe tbody tr th {\n",
       "        vertical-align: top;\n",
       "    }\n",
       "\n",
       "    .dataframe thead th {\n",
       "        text-align: right;\n",
       "    }\n",
       "</style>\n",
       "<table border=\"1\" class=\"dataframe\">\n",
       "  <thead>\n",
       "    <tr style=\"text-align: right;\">\n",
       "      <th></th>\n",
       "      <th>query</th>\n",
       "      <th>positive</th>\n",
       "      <th>negative</th>\n",
       "    </tr>\n",
       "  </thead>\n",
       "  <tbody>\n",
       "    <tr>\n",
       "      <th>34073092</th>\n",
       "      <td>3</td>\n",
       "      <td>1142680</td>\n",
       "      <td>3709694</td>\n",
       "    </tr>\n",
       "    <tr>\n",
       "      <th>27777536</th>\n",
       "      <td>3</td>\n",
       "      <td>1142680</td>\n",
       "      <td>1689342</td>\n",
       "    </tr>\n",
       "    <tr>\n",
       "      <th>39427775</th>\n",
       "      <td>3</td>\n",
       "      <td>1142680</td>\n",
       "      <td>7726790</td>\n",
       "    </tr>\n",
       "    <tr>\n",
       "      <th>18737611</th>\n",
       "      <td>3</td>\n",
       "      <td>1142680</td>\n",
       "      <td>7773621</td>\n",
       "    </tr>\n",
       "    <tr>\n",
       "      <th>10129377</th>\n",
       "      <td>3</td>\n",
       "      <td>1142680</td>\n",
       "      <td>6340510</td>\n",
       "    </tr>\n",
       "    <tr>\n",
       "      <th>...</th>\n",
       "      <td>...</td>\n",
       "      <td>...</td>\n",
       "      <td>...</td>\n",
       "    </tr>\n",
       "    <tr>\n",
       "      <th>38831317</th>\n",
       "      <td>1185869</td>\n",
       "      <td>0</td>\n",
       "      <td>4757034</td>\n",
       "    </tr>\n",
       "    <tr>\n",
       "      <th>28805795</th>\n",
       "      <td>1185869</td>\n",
       "      <td>0</td>\n",
       "      <td>987970</td>\n",
       "    </tr>\n",
       "    <tr>\n",
       "      <th>19803504</th>\n",
       "      <td>1185869</td>\n",
       "      <td>0</td>\n",
       "      <td>4153975</td>\n",
       "    </tr>\n",
       "    <tr>\n",
       "      <th>3296599</th>\n",
       "      <td>1185869</td>\n",
       "      <td>0</td>\n",
       "      <td>7527611</td>\n",
       "    </tr>\n",
       "    <tr>\n",
       "      <th>39596221</th>\n",
       "      <td>1185869</td>\n",
       "      <td>0</td>\n",
       "      <td>8621531</td>\n",
       "    </tr>\n",
       "  </tbody>\n",
       "</table>\n",
       "<p>39780811 rows × 3 columns</p>\n",
       "</div>"
      ],
      "text/plain": [
       "            query  positive  negative\n",
       "34073092        3   1142680   3709694\n",
       "27777536        3   1142680   1689342\n",
       "39427775        3   1142680   7726790\n",
       "18737611        3   1142680   7773621\n",
       "10129377        3   1142680   6340510\n",
       "...           ...       ...       ...\n",
       "38831317  1185869         0   4757034\n",
       "28805795  1185869         0    987970\n",
       "19803504  1185869         0   4153975\n",
       "3296599   1185869         0   7527611\n",
       "39596221  1185869         0   8621531\n",
       "\n",
       "[39780811 rows x 3 columns]"
      ]
     },
     "execution_count": 40,
     "metadata": {},
     "output_type": "execute_result"
    }
   ],
   "source": [
    "df_tmp.sort_values(\"query\") # 3.9M triples"
   ]
  },
  {
   "cell_type": "code",
   "execution_count": 42,
   "metadata": {},
   "outputs": [
    {
     "data": {
      "text/plain": [
       "(415938, 3)"
      ]
     },
     "execution_count": 42,
     "metadata": {},
     "output_type": "execute_result"
    }
   ],
   "source": [
    "df_tmp.drop_duplicates([\"query\", \"positive\"]).shape # 415.938 positive pairs"
   ]
  },
  {
   "cell_type": "code",
   "execution_count": 41,
   "metadata": {},
   "outputs": [
    {
     "data": {
      "text/html": [
       "<div>\n",
       "<style scoped>\n",
       "    .dataframe tbody tr th:only-of-type {\n",
       "        vertical-align: middle;\n",
       "    }\n",
       "\n",
       "    .dataframe tbody tr th {\n",
       "        vertical-align: top;\n",
       "    }\n",
       "\n",
       "    .dataframe thead th {\n",
       "        text-align: right;\n",
       "    }\n",
       "</style>\n",
       "<table border=\"1\" class=\"dataframe\">\n",
       "  <thead>\n",
       "    <tr style=\"text-align: right;\">\n",
       "      <th></th>\n",
       "      <th>id</th>\n",
       "      <th>text</th>\n",
       "      <th>query</th>\n",
       "      <th>positive</th>\n",
       "      <th>negative</th>\n",
       "    </tr>\n",
       "  </thead>\n",
       "  <tbody>\n",
       "    <tr>\n",
       "      <th>0</th>\n",
       "      <td>121352</td>\n",
       "      <td>definir extremo</td>\n",
       "      <td>121352</td>\n",
       "      <td>2912794</td>\n",
       "      <td>3933233</td>\n",
       "    </tr>\n",
       "    <tr>\n",
       "      <th>119</th>\n",
       "      <td>634306</td>\n",
       "      <td>¿Qué significa bienes muebles en el historial ...</td>\n",
       "      <td>634306</td>\n",
       "      <td>1668221</td>\n",
       "      <td>4248288</td>\n",
       "    </tr>\n",
       "    <tr>\n",
       "      <th>217</th>\n",
       "      <td>920825</td>\n",
       "      <td>¿Cuál fue el gran salto hacia adelante mentalm...</td>\n",
       "      <td>920825</td>\n",
       "      <td>3285660</td>\n",
       "      <td>6617428</td>\n",
       "    </tr>\n",
       "    <tr>\n",
       "      <th>314</th>\n",
       "      <td>737889</td>\n",
       "      <td>qué es el proceso de descentralización.</td>\n",
       "      <td>737889</td>\n",
       "      <td>189333</td>\n",
       "      <td>2327459</td>\n",
       "    </tr>\n",
       "    <tr>\n",
       "      <th>423</th>\n",
       "      <td>303205</td>\n",
       "      <td>¿Cuánto puedo contribuir a la ira no deducible?</td>\n",
       "      <td>303205</td>\n",
       "      <td>6487240</td>\n",
       "      <td>821461</td>\n",
       "    </tr>\n",
       "    <tr>\n",
       "      <th>...</th>\n",
       "      <td>...</td>\n",
       "      <td>...</td>\n",
       "      <td>...</td>\n",
       "      <td>...</td>\n",
       "      <td>...</td>\n",
       "    </tr>\n",
       "    <tr>\n",
       "      <th>39780324</th>\n",
       "      <td>155334</td>\n",
       "      <td>¿Los helechos de Boston tienen que estar a la ...</td>\n",
       "      <td>155334</td>\n",
       "      <td>5482817</td>\n",
       "      <td>7674719</td>\n",
       "    </tr>\n",
       "    <tr>\n",
       "      <th>39780406</th>\n",
       "      <td>421294</td>\n",
       "      <td>¿Son las palomitas de maíz un bocadillo saluda...</td>\n",
       "      <td>421294</td>\n",
       "      <td>2687906</td>\n",
       "      <td>5469267</td>\n",
       "    </tr>\n",
       "    <tr>\n",
       "      <th>39780510</th>\n",
       "      <td>1059728</td>\n",
       "      <td>Al por mayor precio de lularoe</td>\n",
       "      <td>1059728</td>\n",
       "      <td>5279595</td>\n",
       "      <td>5046717</td>\n",
       "    </tr>\n",
       "    <tr>\n",
       "      <th>39780599</th>\n",
       "      <td>210839</td>\n",
       "      <td>¿Cómo puedo ver el día siguiente?</td>\n",
       "      <td>210839</td>\n",
       "      <td>5272393</td>\n",
       "      <td>3078695</td>\n",
       "    </tr>\n",
       "    <tr>\n",
       "      <th>39780707</th>\n",
       "      <td>50393</td>\n",
       "      <td>Beneficios de hervir limones y beber jugo.</td>\n",
       "      <td>50393</td>\n",
       "      <td>6427457</td>\n",
       "      <td>3394396</td>\n",
       "    </tr>\n",
       "  </tbody>\n",
       "</table>\n",
       "<p>415938 rows × 5 columns</p>\n",
       "</div>"
      ],
      "text/plain": [
       "               id                                               text    query  \\\n",
       "0          121352                                    definir extremo   121352   \n",
       "119        634306  ¿Qué significa bienes muebles en el historial ...   634306   \n",
       "217        920825  ¿Cuál fue el gran salto hacia adelante mentalm...   920825   \n",
       "314        737889            qué es el proceso de descentralización.   737889   \n",
       "423        303205    ¿Cuánto puedo contribuir a la ira no deducible?   303205   \n",
       "...           ...                                                ...      ...   \n",
       "39780324   155334  ¿Los helechos de Boston tienen que estar a la ...   155334   \n",
       "39780406   421294  ¿Son las palomitas de maíz un bocadillo saluda...   421294   \n",
       "39780510  1059728                     Al por mayor precio de lularoe  1059728   \n",
       "39780599   210839                  ¿Cómo puedo ver el día siguiente?   210839   \n",
       "39780707    50393         Beneficios de hervir limones y beber jugo.    50393   \n",
       "\n",
       "          positive  negative  \n",
       "0          2912794   3933233  \n",
       "119        1668221   4248288  \n",
       "217        3285660   6617428  \n",
       "314         189333   2327459  \n",
       "423        6487240    821461  \n",
       "...            ...       ...  \n",
       "39780324   5482817   7674719  \n",
       "39780406   2687906   5469267  \n",
       "39780510   5279595   5046717  \n",
       "39780599   5272393   3078695  \n",
       "39780707   6427457   3394396  \n",
       "\n",
       "[415938 rows x 5 columns]"
      ]
     },
     "execution_count": 41,
     "metadata": {},
     "output_type": "execute_result"
    }
   ],
   "source": [
    "df_queries_tmp.merge(df_tmp, left_on=\"id\", right_on=\"query\", how=\"inner\").drop_duplicates(\n",
    "    [\"id\", \"positive\"]\n",
    ")"
   ]
  },
  {
   "cell_type": "code",
   "execution_count": 25,
   "metadata": {},
   "outputs": [
    {
     "data": {
      "text/plain": [
       "((39780811, 3), (808731, 2))"
      ]
     },
     "execution_count": 25,
     "metadata": {},
     "output_type": "execute_result"
    }
   ],
   "source": [
    "df_tmp.shape, mmarco_queries[\"train\"].shape"
   ]
  },
  {
   "cell_type": "code",
   "execution_count": 22,
   "metadata": {},
   "outputs": [
    {
     "data": {
      "text/plain": [
       "{'id': 121352, 'text': 'definir extremo'}"
      ]
     },
     "execution_count": 22,
     "metadata": {},
     "output_type": "execute_result"
    }
   ],
   "source": [
    "mmarco_queries[\"train\"][0]"
   ]
  },
  {
   "cell_type": "code",
   "execution_count": 1,
   "metadata": {},
   "outputs": [],
   "source": [
    "# NOTE this is too slow:\n",
    "# ds_tmp = datasets.load_dataset('unicamp-dl/mmarco', 'spanish', trust_remote_code=True) "
   ]
  },
  {
   "cell_type": "markdown",
   "metadata": {},
   "source": [
    "#### PRES (test)"
   ]
  },
  {
   "cell_type": "code",
   "execution_count": 2,
   "metadata": {},
   "outputs": [
    {
     "name": "stderr",
     "output_type": "stream",
     "text": [
      "Repo card metadata block was not found. Setting CardData to empty.\n"
     ]
    },
    {
     "name": "stdout",
     "output_type": "stream",
     "text": [
      "# docs: 10037\n"
     ]
    },
    {
     "name": "stderr",
     "output_type": "stream",
     "text": [
      "Repo card metadata block was not found. Setting CardData to empty.\n",
      "Repo card metadata block was not found. Setting CardData to empty.\n"
     ]
    },
    {
     "name": "stdout",
     "output_type": "stream",
     "text": [
      "(1289, 4)\n"
     ]
    }
   ],
   "source": [
    "# NOTE usamos documents porque el set completo de documents es mas grande (10k ) \n",
    "# que el de oraciones (265), así como está armado en Jina. \n",
    "\n",
    "# ['corpus.sentences', 'corpus.documents', 'queries', 'qrels.s2s', 'qrels.s2p']\n",
    "# collection\n",
    "pres_corpus = datasets.load_dataset(\"jinaai/spanish_passage_retrieval\", \"corpus.documents\", trust_remote_code=True)\n",
    "df_docs = pres_corpus[\"test\"].to_pandas().rename(\n",
    "    columns={\"_id\": \"docid\"}\n",
    ")\n",
    "print(f\"# docs: {df_docs['docid'].nunique()}\")\n",
    "\n",
    "# queries\n",
    "pres_queries = datasets.load_dataset(\"jinaai/spanish_passage_retrieval\", \"queries\", trust_remote_code=True)\n",
    "df_queries = pres_queries[\"test\"].to_pandas().rename(\n",
    "    columns={\"_id\": \"id\", \"text\": \"query\"}\n",
    ")\n",
    "\n",
    "# Qrels\n",
    "pres_qrels = datasets.load_dataset(\"jinaai/spanish_passage_retrieval\", \"qrels.s2p\", trust_remote_code=True)\n",
    "df_qrels = pres_qrels[\"test\"].to_pandas()\n",
    "df_qrels[\"text\"] = df_qrels[\"text\"].str.split(\" \")\n",
    "df_qrels = df_qrels.explode(\"text\").reset_index(drop=True).rename(\n",
    "    columns={\"_id\": \"id\", \"text\": \"docid\"}\n",
    ")\n",
    "\n",
    "df_pres = df_queries.merge(df_qrels, left_on=\"id\", right_on=\"id\").merge(\n",
    "    df_docs, left_on=\"docid\", right_on=\"docid\"\n",
    ")\n",
    "print(df_pres.shape)\n",
    "\n",
    "del pres_corpus, pres_queries, pres_qrels, df_docs, df_queries, df_qrels"
   ]
  },
  {
   "cell_type": "code",
   "execution_count": 3,
   "metadata": {},
   "outputs": [
    {
     "data": {
      "text/html": [
       "<div>\n",
       "<style scoped>\n",
       "    .dataframe tbody tr th:only-of-type {\n",
       "        vertical-align: middle;\n",
       "    }\n",
       "\n",
       "    .dataframe tbody tr th {\n",
       "        vertical-align: top;\n",
       "    }\n",
       "\n",
       "    .dataframe thead th {\n",
       "        text-align: right;\n",
       "    }\n",
       "</style>\n",
       "<table border=\"1\" class=\"dataframe\">\n",
       "  <thead>\n",
       "    <tr style=\"text-align: right;\">\n",
       "      <th></th>\n",
       "      <th>id</th>\n",
       "      <th>query</th>\n",
       "      <th>docid</th>\n",
       "      <th>text</th>\n",
       "    </tr>\n",
       "  </thead>\n",
       "  <tbody>\n",
       "    <tr>\n",
       "      <th>0</th>\n",
       "      <td>PR_ES_1_1</td>\n",
       "      <td>¿Es importante controlar el peso del bebé y su...</td>\n",
       "      <td>doc_8561</td>\n",
       "      <td>El crecimiento de los niños en los primeros añ...</td>\n",
       "    </tr>\n",
       "    <tr>\n",
       "      <th>1</th>\n",
       "      <td>PR_ES_1_2</td>\n",
       "      <td>¿Es importante controlar el peso del bebé y cu...</td>\n",
       "      <td>doc_8561</td>\n",
       "      <td>El crecimiento de los niños en los primeros añ...</td>\n",
       "    </tr>\n",
       "  </tbody>\n",
       "</table>\n",
       "</div>"
      ],
      "text/plain": [
       "          id                                              query     docid  \\\n",
       "0  PR_ES_1_1  ¿Es importante controlar el peso del bebé y su...  doc_8561   \n",
       "1  PR_ES_1_2  ¿Es importante controlar el peso del bebé y cu...  doc_8561   \n",
       "\n",
       "                                                text  \n",
       "0  El crecimiento de los niños en los primeros añ...  \n",
       "1  El crecimiento de los niños en los primeros añ...  "
      ]
     },
     "execution_count": 3,
     "metadata": {},
     "output_type": "execute_result"
    }
   ],
   "source": [
    "df_pres.head(2)"
   ]
  },
  {
   "cell_type": "code",
   "execution_count": 4,
   "metadata": {},
   "outputs": [
    {
     "name": "stdout",
     "output_type": "stream",
     "text": [
      "167 queries\n",
      "1289 judgments\n",
      "7.72 J/Q ratio\n"
     ]
    }
   ],
   "source": [
    "# print number of queries, docs and J/D ratio for df_pres:\n",
    "print(f\"{df_pres['query'].nunique()} queries\")\n",
    "print(f\"{df_pres['docid'].__len__()} judgments\")\n",
    "print(f\"{df_pres['docid'].__len__() / df_pres['query'].nunique():.2f} J/Q ratio\")"
   ]
  },
  {
   "cell_type": "code",
   "execution_count": 9,
   "metadata": {},
   "outputs": [
    {
     "name": "stdout",
     "output_type": "stream",
     "text": [
      "0       ¿Es importante controlar el peso del bebé y su...\n",
      "1       ¿Es importante controlar el peso del bebé y cu...\n",
      "2       ¿Es importante controlar el peso y el crecimie...\n",
      "3       ¿Es importante controlar el peso y la medida d...\n",
      "4       ¿El niño debería ser medido y pesado durante e...\n",
      "                              ...                        \n",
      "1284    ¿Cuáles son los números de teléfono a los que ...\n",
      "1285    ¿Quién tengo que contactar en caso de emergencia?\n",
      "1286     ¿A quién tengo que llamar en caso de emergencia?\n",
      "1287    ¿Existen algunos números de teléfono de emerge...\n",
      "1288    ¿Cuáles son los números de teléfono a los que ...\n",
      "Name: query, Length: 1289, dtype: object\n"
     ]
    }
   ],
   "source": [
    "print(df_pres[\"query\"])\n",
    "# print(df_pres[\"text\"][3])"
   ]
  },
  {
   "cell_type": "markdown",
   "metadata": {},
   "source": [
    "#### Multi-EuParl"
   ]
  },
  {
   "cell_type": "code",
   "execution_count": 53,
   "metadata": {},
   "outputs": [
    {
     "name": "stdout",
     "output_type": "stream",
     "text": [
      "(2371, 5)\n"
     ]
    }
   ],
   "source": [
    "meup = datasets.load_dataset(\"unimelb-nlp/Multi-EuP\", keep_default_na=False)\n",
    "meup = meup[\"full\"].select_columns([\"TEXT\", \"TEXTID\", \"title_ES\", \"qid_ES\", \"did\", \"LANGUAGE\"])\n",
    "\n",
    "df_meup = meup.to_pandas().query(\"LANGUAGE == 'ES'\").rename(\n",
    "    columns={\"TEXT\": \"text\", \"TEXTID\": \"docid\", \"title_ES\": \"query\", \"qid_ES\": \"id\"}\n",
    ").drop(columns=\"LANGUAGE\")\n",
    "print(df_meup.shape)\n",
    "\n",
    "del meup"
   ]
  },
  {
   "cell_type": "code",
   "execution_count": 12,
   "metadata": {},
   "outputs": [
    {
     "data": {
      "text/html": [
       "<div>\n",
       "<style scoped>\n",
       "    .dataframe tbody tr th:only-of-type {\n",
       "        vertical-align: middle;\n",
       "    }\n",
       "\n",
       "    .dataframe tbody tr th {\n",
       "        vertical-align: top;\n",
       "    }\n",
       "\n",
       "    .dataframe thead th {\n",
       "        text-align: right;\n",
       "    }\n",
       "</style>\n",
       "<table border=\"1\" class=\"dataframe\">\n",
       "  <thead>\n",
       "    <tr style=\"text-align: right;\">\n",
       "      <th></th>\n",
       "      <th>text</th>\n",
       "      <th>docid</th>\n",
       "      <th>query</th>\n",
       "      <th>id</th>\n",
       "      <th>did</th>\n",
       "    </tr>\n",
       "  </thead>\n",
       "  <tbody>\n",
       "    <tr>\n",
       "      <th>36</th>\n",
       "      <td>– Señora presidenta, lamento profundamente lo...</td>\n",
       "      <td>d8275c0f-a8f5-4b51-ae6b-dad05b210bf3</td>\n",
       "      <td>Incendios forestales devastadores en Australia...</td>\n",
       "      <td>qid0#ES</td>\n",
       "      <td>doc36</td>\n",
       "    </tr>\n",
       "    <tr>\n",
       "      <th>58</th>\n",
       "      <td>– Señora presidenta, el tema que nos trae hoy...</td>\n",
       "      <td>3ccfdbae-da90-4e97-bebf-2248b28ced73</td>\n",
       "      <td>Delincuencia organizada transfronteriza y su i...</td>\n",
       "      <td>qid1#ES</td>\n",
       "      <td>doc58</td>\n",
       "    </tr>\n",
       "  </tbody>\n",
       "</table>\n",
       "</div>"
      ],
      "text/plain": [
       "                                                 text  \\\n",
       "36   – Señora presidenta, lamento profundamente lo...   \n",
       "58   – Señora presidenta, el tema que nos trae hoy...   \n",
       "\n",
       "                                   docid  \\\n",
       "36  d8275c0f-a8f5-4b51-ae6b-dad05b210bf3   \n",
       "58  3ccfdbae-da90-4e97-bebf-2248b28ced73   \n",
       "\n",
       "                                                query       id    did  \n",
       "36  Incendios forestales devastadores en Australia...  qid0#ES  doc36  \n",
       "58  Delincuencia organizada transfronteriza y su i...  qid1#ES  doc58  "
      ]
     },
     "execution_count": 12,
     "metadata": {},
     "output_type": "execute_result"
    }
   ],
   "source": [
    "df_meup.head(2)"
   ]
  },
  {
   "cell_type": "code",
   "execution_count": 54,
   "metadata": {},
   "outputs": [
    {
     "name": "stdout",
     "output_type": "stream",
     "text": [
      "633 queries\n",
      "2371 docs\n",
      "J/D: 3.75\n"
     ]
    }
   ],
   "source": [
    "print(f\"{df_meup['query'].nunique()} queries\")\n",
    "print(f\"{df_meup['text'].__len__()} docs\")\n",
    "print(f\"J/D: {df_meup['text'].__len__() / df_meup['query'].nunique():.2f}\")\n",
    "# NOTE paper says 680 queries..."
   ]
  },
  {
   "cell_type": "markdown",
   "metadata": {},
   "source": [
    "#### Ours (messirve)"
   ]
  },
  {
   "cell_type": "code",
   "execution_count": null,
   "metadata": {},
   "outputs": [],
   "source": [
    "hf_access_token = os.getenv(\"HF_READ_TOKEN\") # None if not set\n",
    "\n",
    "df_messirve = pd.DataFrame()\n",
    "for split in [\"train\", \"test\"]:\n",
    "    df_tmp = datasets.load_dataset(\"spanish-ir/messirve\", \"full\", token=hf_access_token)[\n",
    "        split].to_pandas()[['id', 'query', 'docid', 'docid_text']].rename(columns={\"docid_text\": \"text\"})\n",
    "    df_tmp[\"split\"] = split\n",
    "    df_messirve = pd.concat([df_messirve, df_tmp])\n",
    "\n",
    "del df_tmp\n"
   ]
  },
  {
   "cell_type": "code",
   "execution_count": 3,
   "metadata": {},
   "outputs": [],
   "source": [
    "df_messirve[\"article_id\"] = df_messirve[\"docid\"].str.split(\"#\").str[0]"
   ]
  },
  {
   "cell_type": "code",
   "execution_count": 4,
   "metadata": {},
   "outputs": [
    {
     "name": "stdout",
     "output_type": "stream",
     "text": [
      "train\n",
      "# docs: 96935\n",
      "# queries: 537730\n"
     ]
    },
    {
     "name": "stdout",
     "output_type": "stream",
     "text": [
      "J/D: 1.06\n",
      "test\n",
      "# docs: 63557\n",
      "# queries: 156528\n",
      "J/D: 1.02\n"
     ]
    }
   ],
   "source": [
    "for split in [\"train\", \"test\"]:\n",
    "    print(split)\n",
    "    print(f\"# docs: {df_messirve[df_messirve['split'] == split]['docid'].nunique()}\")\n",
    "    print(f\"# queries: {df_messirve[df_messirve['split'] == split]['query'].nunique()}\")\n",
    "    print(f\"J/D: {df_messirve[df_messirve['split'] == split]['docid'].__len__() / df_messirve[df_messirve['split'] == split]['query'].nunique():.2f}\")"
   ]
  },
  {
   "cell_type": "code",
   "execution_count": 6,
   "metadata": {},
   "outputs": [
    {
     "data": {
      "text/plain": [
       "694258"
      ]
     },
     "execution_count": 6,
     "metadata": {},
     "output_type": "execute_result"
    }
   ],
   "source": [
    "# total unique queries in messirve:\n",
    "df_messirve[\"query\"].nunique()"
   ]
  },
  {
   "cell_type": "markdown",
   "metadata": {},
   "source": [
    "### Articles comparison (MIRACL, SQAC, ours)"
   ]
  },
  {
   "cell_type": "code",
   "execution_count": 18,
   "metadata": {},
   "outputs": [
    {
     "name": "stdout",
     "output_type": "stream",
     "text": [
      "MIRACL # articles: 17640\n",
      "SQAC # articles: 3823\n",
      "Ours # articles: 84284\n"
     ]
    }
   ],
   "source": [
    "print(f\"MIRACL # articles: {df_miracl['title'].nunique()}\")\n",
    "print(f\"SQAC # articles: {df_sqac['title'].nunique()}\")\n",
    "print(f\"Ours # articles: {df_messirve['article_id'].nunique()}\")"
   ]
  }
 ],
 "metadata": {
  "kernelspec": {
   "display_name": "spanish-ir",
   "language": "python",
   "name": "python3"
  },
  "language_info": {
   "codemirror_mode": {
    "name": "ipython",
    "version": 3
   },
   "file_extension": ".py",
   "mimetype": "text/x-python",
   "name": "python",
   "nbconvert_exporter": "python",
   "pygments_lexer": "ipython3",
   "version": "3.10.14"
  }
 },
 "nbformat": 4,
 "nbformat_minor": 2
}
