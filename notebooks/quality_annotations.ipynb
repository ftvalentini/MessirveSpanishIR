{
 "cells": [
  {
   "cell_type": "code",
   "execution_count": 2,
   "metadata": {},
   "outputs": [],
   "source": [
    "# !pip install -qU openpyxl"
   ]
  },
  {
   "cell_type": "code",
   "execution_count": 3,
   "metadata": {},
   "outputs": [],
   "source": [
    "import pandas as pd\n",
    "\n",
    "dfs = pd.read_excel(\"../data/quality_annotation.xlsx\", sheet_name=None)\n",
    "for k in dfs:\n",
    "    dfs[k] = dfs[k].dropna(subset=[\"id\"])\n",
    "    dfs[k] = dfs[k].astype({\"id\": int})"
   ]
  },
  {
   "cell_type": "code",
   "execution_count": 4,
   "metadata": {},
   "outputs": [
    {
     "data": {
      "text/html": [
       "<div>\n",
       "<style scoped>\n",
       "    .dataframe tbody tr th:only-of-type {\n",
       "        vertical-align: middle;\n",
       "    }\n",
       "\n",
       "    .dataframe tbody tr th {\n",
       "        vertical-align: top;\n",
       "    }\n",
       "\n",
       "    .dataframe thead th {\n",
       "        text-align: right;\n",
       "    }\n",
       "</style>\n",
       "<table border=\"1\" class=\"dataframe\">\n",
       "  <thead>\n",
       "    <tr style=\"text-align: right;\">\n",
       "      <th></th>\n",
       "      <th>annotator</th>\n",
       "      <th>id</th>\n",
       "      <th>query</th>\n",
       "      <th>text</th>\n",
       "      <th>correct</th>\n",
       "      <th>unambiguous</th>\n",
       "      <th>relevant</th>\n",
       "    </tr>\n",
       "  </thead>\n",
       "  <tbody>\n",
       "    <tr>\n",
       "      <th>0</th>\n",
       "      <td>DF</td>\n",
       "      <td>3814522</td>\n",
       "      <td>a dónde pertenece la alcarria</td>\n",
       "      <td>La Alcarria. La Alcarria es una comarca natura...</td>\n",
       "      <td>1.0</td>\n",
       "      <td>1.0</td>\n",
       "      <td>1.0</td>\n",
       "    </tr>\n",
       "    <tr>\n",
       "      <th>1</th>\n",
       "      <td>DF</td>\n",
       "      <td>842215</td>\n",
       "      <td>a donde se conecta la pulsera antiestatica</td>\n",
       "      <td>Dispositivo antiestático. Usualmente esta puls...</td>\n",
       "      <td>1.0</td>\n",
       "      <td>1.0</td>\n",
       "      <td>1.0</td>\n",
       "    </tr>\n",
       "  </tbody>\n",
       "</table>\n",
       "</div>"
      ],
      "text/plain": [
       "  annotator       id                                       query  \\\n",
       "0        DF  3814522               a dónde pertenece la alcarria   \n",
       "1        DF   842215  a donde se conecta la pulsera antiestatica   \n",
       "\n",
       "                                                text  correct  unambiguous  \\\n",
       "0  La Alcarria. La Alcarria es una comarca natura...      1.0          1.0   \n",
       "1  Dispositivo antiestático. Usualmente esta puls...      1.0          1.0   \n",
       "\n",
       "   relevant  \n",
       "0       1.0  \n",
       "1       1.0  "
      ]
     },
     "execution_count": 4,
     "metadata": {},
     "output_type": "execute_result"
    }
   ],
   "source": [
    "df = pd.concat(dfs, keys=dfs.keys(), names=[\"annotator\", \"row\"])\n",
    "df = df.iloc[:, :6] # keep 1st 6 columns\n",
    "df.columns = df.columns.str.split(\"\\n\").str[0]\n",
    "df = df.reset_index(drop=False).drop(columns=\"row\")\n",
    "df = df.rename(\n",
    "    columns={\n",
    "        '\"Correctitud\"': \"correct\",\n",
    "        \"No ambigüedad \": \"unambiguous\",\n",
    "        \"Relevancia\": \"relevant\",\n",
    "    }\n",
    ")\n",
    "df[[\"correct\", \"unambiguous\", \"relevant\"]] = df[[\"correct\", \"unambiguous\", \"relevant\"]].apply(pd.to_numeric, errors=\"coerce\")\n",
    "df.head(2)"
   ]
  },
  {
   "cell_type": "code",
   "execution_count": 5,
   "metadata": {},
   "outputs": [
    {
     "name": "stdout",
     "output_type": "stream",
     "text": [
      "annotator       object\n",
      "id               int64\n",
      "query           object\n",
      "text            object\n",
      "correct        float64\n",
      "unambiguous    float64\n",
      "relevant       float64\n",
      "dtype: object\n"
     ]
    }
   ],
   "source": [
    "print(df.dtypes)"
   ]
  },
  {
   "cell_type": "code",
   "execution_count": 6,
   "metadata": {},
   "outputs": [
    {
     "data": {
      "text/plain": [
       "annotator\n",
       "DF     250\n",
       "IB     250\n",
       "JMP    200\n",
       "VC     250\n",
       "dtype: int64"
      ]
     },
     "execution_count": 6,
     "metadata": {},
     "output_type": "execute_result"
    }
   ],
   "source": [
    "# Unique queries by annotator:\n",
    "df.drop_duplicates([\"annotator\", \"query\"]).groupby(\"annotator\").size()"
   ]
  },
  {
   "cell_type": "code",
   "execution_count": 7,
   "metadata": {},
   "outputs": [
    {
     "name": "stdout",
     "output_type": "stream",
     "text": [
      "50\n"
     ]
    }
   ],
   "source": [
    "# Check: there are 50 in common for all annotators\n",
    "df_tmp = df.drop_duplicates([\"annotator\", \"query\"])\n",
    "df_tmp[\"query\"].value_counts().value_counts()\n",
    "\n",
    "# Keep the IDs of the queries that are common to all annotators:\n",
    "queries_tmp = df_tmp[\"query\"].value_counts()\n",
    "common_queries = queries_tmp[queries_tmp == 4].index\n",
    "print(len(common_queries))"
   ]
  },
  {
   "cell_type": "code",
   "execution_count": 8,
   "metadata": {},
   "outputs": [],
   "source": [
    "# Keep queries effectively annotated:\n",
    "\n",
    "# remove all rows with NaN values in any of the 3 columns:\n",
    "df = df.dropna(subset=[\"correct\", \"unambiguous\", \"relevant\"])\n",
    "# remove all rows with values outside other than [0, 1]:\n",
    "df = df[(df[\"correct\"].isin([0, 1])) & (df[\"unambiguous\"].isin([0, 1])) & (df[\"relevant\"].isin([0, 1]))]\n",
    "# remove dups by annotator, id:\n",
    "df = df.drop_duplicates(subset=[\"annotator\", \"id\"])"
   ]
  },
  {
   "cell_type": "code",
   "execution_count": 9,
   "metadata": {},
   "outputs": [],
   "source": [
    "# df[\"annotator\"].value_counts()"
   ]
  },
  {
   "cell_type": "code",
   "execution_count": 10,
   "metadata": {},
   "outputs": [
    {
     "data": {
      "text/plain": [
       "annotator\n",
       "DF     50\n",
       "IB     50\n",
       "JMP    50\n",
       "VC     50\n",
       "dtype: int64"
      ]
     },
     "execution_count": 10,
     "metadata": {},
     "output_type": "execute_result"
    }
   ],
   "source": [
    "df.query(\"query in @common_queries\").groupby(\"annotator\").size()"
   ]
  },
  {
   "cell_type": "code",
   "execution_count": 11,
   "metadata": {},
   "outputs": [
    {
     "data": {
      "text/plain": [
       "count\n",
       "1    655\n",
       "4     50\n",
       "Name: count, dtype: int64"
      ]
     },
     "execution_count": 11,
     "metadata": {},
     "output_type": "execute_result"
    }
   ],
   "source": [
    "df_tmp = df.drop_duplicates([\"annotator\", \"query\"])\n",
    "df_tmp[\"query\"].value_counts().value_counts()"
   ]
  },
  {
   "cell_type": "code",
   "execution_count": 12,
   "metadata": {},
   "outputs": [
    {
     "data": {
      "text/html": [
       "<div>\n",
       "<style scoped>\n",
       "    .dataframe tbody tr th:only-of-type {\n",
       "        vertical-align: middle;\n",
       "    }\n",
       "\n",
       "    .dataframe tbody tr th {\n",
       "        vertical-align: top;\n",
       "    }\n",
       "\n",
       "    .dataframe thead th {\n",
       "        text-align: right;\n",
       "    }\n",
       "</style>\n",
       "<table border=\"1\" class=\"dataframe\">\n",
       "  <thead>\n",
       "    <tr style=\"text-align: right;\">\n",
       "      <th></th>\n",
       "      <th>annotator</th>\n",
       "      <th>#annot</th>\n",
       "      <th>%correct</th>\n",
       "      <th>%unambiguous</th>\n",
       "      <th>%relevant</th>\n",
       "    </tr>\n",
       "  </thead>\n",
       "  <tbody>\n",
       "    <tr>\n",
       "      <th>0</th>\n",
       "      <td>DF</td>\n",
       "      <td>204.0</td>\n",
       "      <td>90.686275</td>\n",
       "      <td>87.254902</td>\n",
       "      <td>90.196078</td>\n",
       "    </tr>\n",
       "    <tr>\n",
       "      <th>1</th>\n",
       "      <td>IB</td>\n",
       "      <td>250.0</td>\n",
       "      <td>97.600000</td>\n",
       "      <td>91.600000</td>\n",
       "      <td>88.800000</td>\n",
       "    </tr>\n",
       "    <tr>\n",
       "      <th>2</th>\n",
       "      <td>JMP</td>\n",
       "      <td>199.0</td>\n",
       "      <td>95.477387</td>\n",
       "      <td>86.432161</td>\n",
       "      <td>86.934673</td>\n",
       "    </tr>\n",
       "    <tr>\n",
       "      <th>3</th>\n",
       "      <td>VC</td>\n",
       "      <td>202.0</td>\n",
       "      <td>89.603960</td>\n",
       "      <td>93.069307</td>\n",
       "      <td>93.564356</td>\n",
       "    </tr>\n",
       "  </tbody>\n",
       "</table>\n",
       "</div>"
      ],
      "text/plain": [
       "  annotator  #annot   %correct  %unambiguous  %relevant\n",
       "0        DF   204.0  90.686275     87.254902  90.196078\n",
       "1        IB   250.0  97.600000     91.600000  88.800000\n",
       "2       JMP   199.0  95.477387     86.432161  86.934673\n",
       "3        VC   202.0  89.603960     93.069307  93.564356"
      ]
     },
     "execution_count": 12,
     "metadata": {},
     "output_type": "execute_result"
    }
   ],
   "source": [
    "# For eac annot, #annot, %correct, %unambiguous, %relevant:\n",
    "df.groupby(\"annotator\").apply(\n",
    "    lambda x: pd.Series({\n",
    "        \"#annot\": len(x),\n",
    "        \"%correct\": 100 * x[\"correct\"].mean(),\n",
    "        \"%unambiguous\": 100 * x[\"unambiguous\"].mean(),\n",
    "        \"%relevant\": 100 * x[\"relevant\"].mean(),\n",
    "    })\n",
    ").reset_index()"
   ]
  },
  {
   "cell_type": "code",
   "execution_count": 13,
   "metadata": {},
   "outputs": [
    {
     "name": "stdout",
     "output_type": "stream",
     "text": [
      "646\n",
      "(646, 5)\n"
     ]
    },
    {
     "data": {
      "text/html": [
       "<div>\n",
       "<style scoped>\n",
       "    .dataframe tbody tr th:only-of-type {\n",
       "        vertical-align: middle;\n",
       "    }\n",
       "\n",
       "    .dataframe tbody tr th {\n",
       "        vertical-align: top;\n",
       "    }\n",
       "\n",
       "    .dataframe thead th {\n",
       "        text-align: right;\n",
       "    }\n",
       "</style>\n",
       "<table border=\"1\" class=\"dataframe\">\n",
       "  <thead>\n",
       "    <tr style=\"text-align: right;\">\n",
       "      <th></th>\n",
       "      <th>query</th>\n",
       "      <th>id</th>\n",
       "      <th>correct</th>\n",
       "      <th>unambiguous</th>\n",
       "      <th>relevant</th>\n",
       "    </tr>\n",
       "  </thead>\n",
       "  <tbody>\n",
       "    <tr>\n",
       "      <th>0</th>\n",
       "      <td>a cuantos pasos se coloca la barrera en un tir...</td>\n",
       "      <td>987454</td>\n",
       "      <td>1</td>\n",
       "      <td>1</td>\n",
       "      <td>1</td>\n",
       "    </tr>\n",
       "    <tr>\n",
       "      <th>1</th>\n",
       "      <td>a donde iban los muertos en el antiguo testamento</td>\n",
       "      <td>991716</td>\n",
       "      <td>1</td>\n",
       "      <td>1</td>\n",
       "      <td>1</td>\n",
       "    </tr>\n",
       "  </tbody>\n",
       "</table>\n",
       "</div>"
      ],
      "text/plain": [
       "                                               query      id  correct  \\\n",
       "0  a cuantos pasos se coloca la barrera en un tir...  987454        1   \n",
       "1  a donde iban los muertos en el antiguo testamento  991716        1   \n",
       "\n",
       "   unambiguous  relevant  \n",
       "0            1         1  \n",
       "1            1         1  "
      ]
     },
     "execution_count": 13,
     "metadata": {},
     "output_type": "execute_result"
    }
   ],
   "source": [
    "# to measure rates, use:\n",
    "# queries annotated by all annotators + sample rest of queries so that each annotator has the same number of queries\n",
    "# keep the majority vote for each query\n",
    "mask_common = df.groupby(\"query\")[\"annotator\"].transform(\"nunique\") == df[\"annotator\"].nunique()\n",
    "df_common = df[mask_common].copy()\n",
    "df_rest = df[~mask_common].copy()\n",
    "min_queries = df_rest[\"annotator\"].value_counts().min()\n",
    "df_rest = (\n",
    "    df_rest.groupby(\"annotator\")\n",
    "    .apply(lambda x: x.sample(min_queries, random_state=33, replace=False))\n",
    "    .reset_index(drop=True)\n",
    ")\n",
    "df_tmp = pd.concat([df_common, df_rest], ignore_index=True)\n",
    "df_rates = df_tmp.groupby([\"query\", \"id\"])[\n",
    "    [\"correct\", \"unambiguous\", \"relevant\"]].mean().round().astype(int).reset_index()\n",
    "\n",
    "print(df_rates[\"id\"].nunique())\n",
    "print(df_rates.shape)\n",
    "df_rates.head(2)"
   ]
  },
  {
   "cell_type": "code",
   "execution_count": 14,
   "metadata": {},
   "outputs": [
    {
     "name": "stdout",
     "output_type": "stream",
     "text": [
      "% correct = 93.5\n",
      "% unambiguous = 90.1\n",
      "% relevant = 90.2\n"
     ]
    }
   ],
   "source": [
    "print(f\"% correct = {df_rates['correct'].mean() * 100:.1f}\")\n",
    "print(f\"% unambiguous = {df_rates['unambiguous'].mean() * 100:.1f}\")\n",
    "print(f\"% relevant = {df_rates['relevant'].mean() * 100:.1f}\")"
   ]
  },
  {
   "cell_type": "code",
   "execution_count": 15,
   "metadata": {},
   "outputs": [
    {
     "name": "stdout",
     "output_type": "stream",
     "text": [
      "% correct = 93.5\n",
      "% unambiguous = 90.1\n",
      "% relevant = 90.2\n"
     ]
    }
   ],
   "source": [
    "print(f\"% correct = {df_rates['correct'].mean() * 100:.1f}\")\n",
    "print(f\"% unambiguous = {df_rates['unambiguous'].mean() * 100:.1f}\")\n",
    "print(f\"% relevant = {df_rates['relevant'].mean() * 100:.1f}\")"
   ]
  },
  {
   "cell_type": "code",
   "execution_count": 16,
   "metadata": {},
   "outputs": [
    {
     "data": {
      "text/plain": [
       "annotator\n",
       "DF     50\n",
       "IB     50\n",
       "JMP    50\n",
       "VC     50\n",
       "Name: count, dtype: int64"
      ]
     },
     "execution_count": 16,
     "metadata": {},
     "output_type": "execute_result"
    }
   ],
   "source": [
    "# To measure agreement, keep the queries annotated by all annotators:\n",
    "mask = df.groupby(\"query\")[\"annotator\"].transform(\"nunique\") == df[\"annotator\"].nunique()\n",
    "df_common = df[mask].copy()\n",
    "\n",
    "df_common[\"annotator\"].value_counts()"
   ]
  },
  {
   "cell_type": "code",
   "execution_count": 17,
   "metadata": {},
   "outputs": [
    {
     "data": {
      "text/html": [
       "<div>\n",
       "<style scoped>\n",
       "    .dataframe tbody tr th:only-of-type {\n",
       "        vertical-align: middle;\n",
       "    }\n",
       "\n",
       "    .dataframe tbody tr th {\n",
       "        vertical-align: top;\n",
       "    }\n",
       "\n",
       "    .dataframe thead th {\n",
       "        text-align: right;\n",
       "    }\n",
       "</style>\n",
       "<table border=\"1\" class=\"dataframe\">\n",
       "  <thead>\n",
       "    <tr style=\"text-align: right;\">\n",
       "      <th></th>\n",
       "      <th>annotator</th>\n",
       "      <th>id</th>\n",
       "      <th>query</th>\n",
       "      <th>text</th>\n",
       "      <th>correct</th>\n",
       "      <th>unambiguous</th>\n",
       "      <th>relevant</th>\n",
       "    </tr>\n",
       "  </thead>\n",
       "  <tbody>\n",
       "    <tr>\n",
       "      <th>3</th>\n",
       "      <td>DF</td>\n",
       "      <td>1009535</td>\n",
       "      <td>a que corriente filosofica pertenece platon</td>\n",
       "      <td>Realismo filosófico. En la filosofía griega an...</td>\n",
       "      <td>1.0</td>\n",
       "      <td>1.0</td>\n",
       "      <td>1.0</td>\n",
       "    </tr>\n",
       "    <tr>\n",
       "      <th>11</th>\n",
       "      <td>DF</td>\n",
       "      <td>143694</td>\n",
       "      <td>a quien le quito el marido natalia de la casa ...</td>\n",
       "      <td>Natalia París. Fue pareja durante varios años ...</td>\n",
       "      <td>0.0</td>\n",
       "      <td>0.0</td>\n",
       "      <td>0.0</td>\n",
       "    </tr>\n",
       "  </tbody>\n",
       "</table>\n",
       "</div>"
      ],
      "text/plain": [
       "   annotator       id                                              query  \\\n",
       "3         DF  1009535        a que corriente filosofica pertenece platon   \n",
       "11        DF   143694  a quien le quito el marido natalia de la casa ...   \n",
       "\n",
       "                                                 text  correct  unambiguous  \\\n",
       "3   Realismo filosófico. En la filosofía griega an...      1.0          1.0   \n",
       "11  Natalia París. Fue pareja durante varios años ...      0.0          0.0   \n",
       "\n",
       "    relevant  \n",
       "3        1.0  \n",
       "11       0.0  "
      ]
     },
     "execution_count": 17,
     "metadata": {},
     "output_type": "execute_result"
    }
   ],
   "source": [
    "df_common.head(2)"
   ]
  },
  {
   "cell_type": "code",
   "execution_count": 18,
   "metadata": {},
   "outputs": [],
   "source": [
    "# df_common.sort_values([\"id\", \"annotator\"]).to_csv(\n",
    "#     \"quality_annotation_common.csv\", index=False)"
   ]
  },
  {
   "cell_type": "code",
   "execution_count": 19,
   "metadata": {},
   "outputs": [
    {
     "name": "stdout",
     "output_type": "stream",
     "text": [
      "correct        0.78\n",
      "unambiguous    0.74\n",
      "relevant       0.78\n",
      "dtype: float64\n"
     ]
    }
   ],
   "source": [
    "# Compute % of times all annotators agree on each category on a given query:\n",
    "df_tmp = df_common.groupby(\"id\")[[\"correct\", \"unambiguous\", \"relevant\"]].mean()\n",
    "print((df_tmp == 1).mean())\n",
    "# print(df_tmp)\n"
   ]
  }
 ],
 "metadata": {
  "kernelspec": {
   "display_name": "spanish-ir",
   "language": "python",
   "name": "python3"
  },
  "language_info": {
   "codemirror_mode": {
    "name": "ipython",
    "version": 3
   },
   "file_extension": ".py",
   "mimetype": "text/x-python",
   "name": "python",
   "nbconvert_exporter": "python",
   "pygments_lexer": "ipython3",
   "version": "3.10.14"
  }
 },
 "nbformat": 4,
 "nbformat_minor": 2
}
