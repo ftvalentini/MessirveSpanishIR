{
 "cells": [
  {
   "cell_type": "code",
   "execution_count": 1,
   "metadata": {},
   "outputs": [],
   "source": [
    "import os\n",
    "\n",
    "import numpy as np\n",
    "import pandas as pd\n",
    "import datasets\n",
    "from datasets import load_dataset\n",
    "from tqdm import tqdm"
   ]
  },
  {
   "cell_type": "markdown",
   "metadata": {},
   "source": [
    "## Prefixes for Google API"
   ]
  },
  {
   "cell_type": "code",
   "execution_count": 1,
   "metadata": {},
   "outputs": [],
   "source": [
    "import sys \n",
    "\n",
    "sys.path.append('../scripts')\n",
    "\n",
    "from google_questions.helpers import QUERY_PATTERNS, add_accented_patterns"
   ]
  },
  {
   "cell_type": "code",
   "execution_count": 2,
   "metadata": {},
   "outputs": [],
   "source": [
    "seed_prefixes = add_accented_patterns(QUERY_PATTERNS)"
   ]
  },
  {
   "cell_type": "code",
   "execution_count": 8,
   "metadata": {},
   "outputs": [
    {
     "name": "stdout",
     "output_type": "stream",
     "text": [
      "``a cual'', ``a cuales'', ``a cuantas'', ``a cuantos'', ``a cuál'', ``a cuáles'', ``a cuántas'', ``a cuántos'', ``a donde'', ``a dónde'', ``a que'', ``a quien'', ``a quienes'', ``a quién'', ``a quiénes'', ``a qué'', ``adonde debe'', ``adónde debe'', ``ante cual'', ``ante cuales'', ``ante cuál'', ``ante cuáles'', ``ante que'', ``ante quien'', ``ante quienes'', ``ante quién'', ``ante quiénes'', ``ante qué'', ``bajo cual'', ``bajo cuales'', ``bajo cuál'', ``bajo cuáles'', ``bajo que'', ``bajo qué'', ``buenas razones para'', ``buenos motivos para'', ``como'', ``con cual'', ``con cuales'', ``con cuanta'', ``con cuantas'', ``con cuanto'', ``con cuantos'', ``con cuál'', ``con cuáles'', ``con cuánta'', ``con cuántas'', ``con cuánto'', ``con cuántos'', ``con que'', ``con quien'', ``con quienes'', ``con quién'', ``con quiénes'', ``con qué'', ``cual'', ``cuales'', ``cuando'', ``cuanta'', ``cuantas'', ``cuanto'', ``cuantos'', ``cuál'', ``cuáles'', ``cuándo'', ``cuánta'', ``cuántas'', ``cuánto'', ``cuántos'', ``cómo'', ``de cual'', ``de cuanta'', ``de cuantas'', ``de cuanto'', ``de cuantos'', ``de cuál'', ``de cuánta'', ``de cuántas'', ``de cuánto'', ``de cuántos'', ``de donde'', ``de dónde'', ``de que'', ``de quien'', ``de quienes'', ``de quién'', ``de quiénes'', ``de qué'', ``deberia'', ``deberian'', ``desde donde'', ``desde dónde'', ``desde que'', ``desde qué'', ``donde'', ``durante cual'', ``durante cuales'', ``durante cuanto'', ``durante cuantos'', ``durante cuál'', ``durante cuáles'', ``durante cuánto'', ``durante cuántos'', ``durante que'', ``durante qué'', ``dónde'', ``en cual'', ``en cuales'', ``en cuantas'', ``en cuanto'', ``en cuantos'', ``en cuál'', ``en cuáles'', ``en cuántas'', ``en cuánto'', ``en cuántos'', ``en donde'', ``en dónde'', ``en que'', ``en quien'', ``en quién'', ``en qué'', ``entre cuales'', ``entre cuáles'', ``entre que'', ``entre quienes'', ``entre quiénes'', ``entre qué'', ``hacia cual'', ``hacia cuál'', ``hacia que'', ``hacia quien'', ``hacia quién'', ``hacia qué'', ``hasta cual'', ``hasta cuando'', ``hasta cuanta'', ``hasta cuantas'', ``hasta cuanto'', ``hasta cuantos'', ``hasta cuál'', ``hasta cuándo'', ``hasta cuánta'', ``hasta cuántas'', ``hasta cuánto'', ``hasta cuántos'', ``hasta donde'', ``hasta dónde'', ``hasta que'', ``hasta qué'', ``mediante cual'', ``mediante cuales'', ``mediante cuál'', ``mediante cuáles'', ``mediante que'', ``mediante qué'', ``motivos de por que'', ``motivos de por qué'', ``motivos de'', ``motivos del'', ``motivos para'', ``motivos por los que'', ``motivos por los qué'', ``para cual'', ``para cuantas'', ``para cuantos'', ``para cuál'', ``para cuántas'', ``para cuántos'', ``para donde'', ``para dónde'', ``para que'', ``para quien'', ``para quienes'', ``para quién'', ``para quiénes'', ``para qué'', ``podria'', ``por cuanta'', ``por cuantas'', ``por cuanto'', ``por cuantos'', ``por cuánta'', ``por cuántas'', ``por cuánto'', ``por cuántos'', ``por donde'', ``por dónde'', ``por que debe'', ``por que deberia'', ``por que no'', ``por que'', ``por qué debe'', ``por qué deberia'', ``por qué no'', ``por qué'', ``porque'', ``porqué'', ``pros y contras de'', ``puede'', ``pueden'', ``que'', ``quien'', ``quienes'', ``quién'', ``quiénes'', ``qué'', ``razones de por que'', ``razones de por qué'', ``razones de'', ``razones del'', ``razones para'', ``razones por las que'', ``razones por las qué'', ``segun quien'', ``segun quienes'', ``segun quién'', ``segun quiénes'', ``según quien'', ``según quienes'', ``sobre cual'', ``sobre cuál'', ``sobre que'', ``sobre quien'', ``sobre quienes'', ``sobre quién'', ``sobre quiénes'', ``sobre qué'', ``tras cuantas'', ``tras cuanto'', ``tras cuantos'', ``tras cuántas'', ``tras cuánto'', ``tras cuántos''\n"
     ]
    }
   ],
   "source": [
    "formatted_prefixes = sorted([f\"``{prefix.strip()}''\" for prefix in seed_prefixes])\n",
    "\n",
    "print(*formatted_prefixes, sep=', ')"
   ]
  },
  {
   "cell_type": "markdown",
   "metadata": {},
   "source": [
    "## Stats"
   ]
  },
  {
   "cell_type": "code",
   "execution_count": 2,
   "metadata": {},
   "outputs": [],
   "source": [
    "hf_access_token = os.getenv(\"HF_READ_TOKEN\") # None if not set"
   ]
  },
  {
   "cell_type": "code",
   "execution_count": 3,
   "metadata": {},
   "outputs": [],
   "source": [
    "isos = [\n",
    "    'full', 'no_country',\n",
    "    'ar', 'bo', 'cl', 'co', 'cr', 'cu', 'do', 'ec', 'es', 'gt', 'hn', 'mx',\n",
    "    'ni', 'pa', 'pe', 'pr', 'py', 'sv', 'us', 'uy', 've',\n",
    "]\n",
    "iso2country = {\n",
    "    'ar': 'Argentina',\n",
    "    'bo': 'Bolivia',\n",
    "    'cl': 'Chile',\n",
    "    'co': 'Colombia',\n",
    "    'cr': 'Costa Rica',\n",
    "    'cu': 'Cuba',\n",
    "    'do': 'Dominican Rep.',\n",
    "    'ec': 'Ecuador',\n",
    "    'es': 'Spain',\n",
    "    'gt': 'Guatemala',\n",
    "    'hn': 'Honduras',\n",
    "    'mx': 'Mexico',\n",
    "    'ni': 'Nicaragua',\n",
    "    'pa': 'Panama',\n",
    "    'pe': 'Peru',\n",
    "    'pr': 'Puerto Rico',\n",
    "    'py': 'Paraguay',\n",
    "    'sv': 'El Salvador',\n",
    "    'us': 'United States',\n",
    "    'uy': 'Uruguay',\n",
    "    've': 'Venezuela',\n",
    "    'full': '-',\n",
    "    'no_country': '-',\n",
    "}"
   ]
  },
  {
   "cell_type": "code",
   "execution_count": null,
   "metadata": {},
   "outputs": [
    {
     "name": "stderr",
     "output_type": "stream",
     "text": [
      "100%|██████████| 23/23 [01:18<00:00,  3.43s/it]\n"
     ]
    }
   ],
   "source": [
    "# For each iso:\n",
    "# number of queries in train\n",
    "# number of queries in test\n",
    "# number of unique relevant documents in test\n",
    "# number of unique relevant articles in test\n",
    "# avg query length in test\n",
    "# avg relevant doc. length in test\n",
    "datasets.disable_progress_bars()\n",
    "\n",
    "def extract_data(examples):\n",
    "    query_counts = [x.count(\" \") + 1 for x in examples[\"query\"]]\n",
    "    doc_counts = [x.count(\" \") + 1 for x in examples[\"docid_text\"]]\n",
    "    # get articleid from docid (format: \"articleid#passagenumber\")\n",
    "    examples[\"articleid\"] = [x.split(\"#\")[0] for x in examples[\"docid\"]]\n",
    "    return {\"query_len\": query_counts, \"doc_len\": doc_counts, \"articleid\": examples[\"articleid\"]}\n",
    "\n",
    "stats = {}\n",
    "for iso in tqdm(isos):\n",
    "    dataset = load_dataset(\"spanish-ir/messirve\", iso, token=hf_access_token)\n",
    "    res = {\n",
    "        \"n_train\": pd.Series(dataset[\"train\"][\"query\"]).nunique(),\n",
    "        \"n_test\": pd.Series(dataset[\"test\"][\"query\"]).nunique(),\n",
    "        \"n_unique_docs\": pd.Series(dataset[\"test\"][\"docid\"]).nunique(),\n",
    "    }\n",
    "    dataset[\"test\"] = dataset[\"test\"].map(extract_data, batched=True, remove_columns=dataset[\"train\"].column_names)\n",
    "    res[\"n_unique_articles\"] = pd.Series(dataset[\"test\"][\"articleid\"]).nunique()\n",
    "    res[\"avg_query_length\"] = np.mean(dataset[\"test\"][\"query_len\"])\n",
    "    res[\"avg_doc_length\"] = np.mean(dataset[\"test\"][\"doc_len\"])\n",
    "    stats[iso] = res\n"
   ]
  },
  {
   "cell_type": "code",
   "execution_count": 9,
   "metadata": {},
   "outputs": [
    {
     "data": {
      "text/html": [
       "<div>\n",
       "<style scoped>\n",
       "    .dataframe tbody tr th:only-of-type {\n",
       "        vertical-align: middle;\n",
       "    }\n",
       "\n",
       "    .dataframe tbody tr th {\n",
       "        vertical-align: top;\n",
       "    }\n",
       "\n",
       "    .dataframe thead th {\n",
       "        text-align: right;\n",
       "    }\n",
       "</style>\n",
       "<table border=\"1\" class=\"dataframe\">\n",
       "  <thead>\n",
       "    <tr style=\"text-align: right;\">\n",
       "      <th></th>\n",
       "      <th>country</th>\n",
       "      <th>iso</th>\n",
       "      <th>n_train</th>\n",
       "      <th>n_test</th>\n",
       "      <th>n_unique_docs</th>\n",
       "      <th>n_unique_articles</th>\n",
       "      <th>avg_query_length</th>\n",
       "      <th>avg_doc_length</th>\n",
       "    </tr>\n",
       "  </thead>\n",
       "  <tbody>\n",
       "    <tr>\n",
       "      <th>0</th>\n",
       "      <td>-</td>\n",
       "      <td>full</td>\n",
       "      <td>537730</td>\n",
       "      <td>156528</td>\n",
       "      <td>63557</td>\n",
       "      <td>47127</td>\n",
       "      <td>5.690465</td>\n",
       "      <td>79.937415</td>\n",
       "    </tr>\n",
       "    <tr>\n",
       "      <th>1</th>\n",
       "      <td>-</td>\n",
       "      <td>no_country</td>\n",
       "      <td>356040</td>\n",
       "      <td>101359</td>\n",
       "      <td>44869</td>\n",
       "      <td>34306</td>\n",
       "      <td>5.760228</td>\n",
       "      <td>80.806648</td>\n",
       "    </tr>\n",
       "  </tbody>\n",
       "</table>\n",
       "</div>"
      ],
      "text/plain": [
       "  country         iso  n_train  n_test  n_unique_docs  n_unique_articles  \\\n",
       "0       -        full   537730  156528          63557              47127   \n",
       "1       -  no_country   356040  101359          44869              34306   \n",
       "\n",
       "   avg_query_length  avg_doc_length  \n",
       "0          5.690465       79.937415  \n",
       "1          5.760228       80.806648  "
      ]
     },
     "execution_count": 9,
     "metadata": {},
     "output_type": "execute_result"
    }
   ],
   "source": [
    "# DF with cols: country, iso, n_train, n_test, n_unique_docs, n_unique_articles, avg_query_length, avg_doc_length\n",
    "df = pd.DataFrame(stats).T\n",
    "df[\"country\"] = df.index.map(iso2country)\n",
    "df[\"iso\"] = df.index\n",
    "df = df[[\"country\", \"iso\", \"n_train\", \"n_test\", \"n_unique_docs\", \"n_unique_articles\", \"avg_query_length\", \"avg_doc_length\"]]\n",
    "int_cols = [c for c in df.columns if c.startswith(\"n_\")]\n",
    "df[int_cols] = df[int_cols].astype(int)\n",
    "df = df.reset_index(drop=True)\n",
    "df.head(2)"
   ]
  },
  {
   "cell_type": "code",
   "execution_count": 10,
   "metadata": {},
   "outputs": [],
   "source": [
    "df.columns = pd.MultiIndex.from_tuples([\n",
    "    ('', 'Country'),\n",
    "    ('', 'Code'),\n",
    "    ('train', '#Unique Q'),\n",
    "    ('test', '#Unique Q'),\n",
    "    ('test', '#Unique Docs'),\n",
    "    ('test', '#Unique Articles'),\n",
    "    ('test', 'Avg Query Length'),\n",
    "    ('test', 'Avg Doc Length'),\n",
    "])"
   ]
  },
  {
   "cell_type": "code",
   "execution_count": 11,
   "metadata": {},
   "outputs": [
    {
     "name": "stdout",
     "output_type": "stream",
     "text": [
      "\\begin{tabular}{llrrrrrr}\n",
      "\\multicolumn{2}{r}{} & train & \\multicolumn{5}{r}{test} \\\\\n",
      "Country & Code & \\#Unique Q & \\#Unique Q & \\#Unique Docs & \\#Unique Articles & Avg Query Length & Avg Doc Length \\\\\n",
      "- & \\texttt{full} & 537 730 & 156 528 & 63 557 & 47 127 & 5.7 & 79.9 \\\\\n",
      "- & \\texttt{none} & 356 040 & 101 359 & 44 869 & 34 306 & 5.8 & 80.8 \\\\\n",
      "Argentina & \\texttt{ar} & 22 560 & 5 481 & 3 829 & 3 498 & 5.4 & 80.4 \\\\\n",
      "Bolivia & \\texttt{bo} & 24 912 & 4 810 & 3 230 & 2 866 & 5.3 & 79.7 \\\\\n",
      "Chile & \\texttt{cl} & 22 486 & 5 408 & 3 694 & 3 381 & 5.4 & 79.3 \\\\\n",
      "Colombia & \\texttt{co} & 25 914 & 5 667 & 3 845 & 3 464 & 5.6 & 79.8 \\\\\n",
      "Costa Rica & \\texttt{cr} & 23 662 & 5 690 & 4 047 & 3 693 & 5.5 & 79.3 \\\\\n",
      "Cuba & \\texttt{cu} & 22 071 & 4 787 & 3 374 & 3 071 & 5.4 & 80.9 \\\\\n",
      "Dominican Rep. & \\texttt{do} & 27 830 & 5 359 & 3 725 & 3 320 & 5.6 & 79.8 \\\\\n",
      "Ecuador & \\texttt{ec} & 27 599 & 6 074 & 4 214 & 3 734 & 5.9 & 81.1 \\\\\n",
      "Spain & \\texttt{es} & 23 476 & 7 148 & 5 004 & 4 654 & 5.5 & 80.0 \\\\\n",
      "Guatemala & \\texttt{gt} & 22 971 & 4 630 & 3 091 & 2 755 & 5.5 & 79.5 \\\\\n",
      "Honduras & \\texttt{hn} & 26 818 & 5 608 & 3 890 & 3 540 & 5.5 & 78.8 \\\\\n",
      "Mexico & \\texttt{mx} & 32 258 & 8 099 & 5 563 & 4 991 & 5.5 & 79.2 \\\\\n",
      "Nicaragua & \\texttt{ni} & 28 179 & 5 787 & 3 926 & 3 539 & 5.4 & 78.8 \\\\\n",
      "Panama & \\texttt{pa} & 25 784 & 5 777 & 4 082 & 3 700 & 5.5 & 79.8 \\\\\n",
      "Peru & \\texttt{pe} & 25 877 & 5 458 & 3 784 & 3 443 & 5.5 & 79.6 \\\\\n",
      "Puerto Rico & \\texttt{pr} & 26 609 & 6 343 & 4 347 & 3 930 & 5.4 & 81.2 \\\\\n",
      "Paraguay & \\texttt{py} & 24 885 & 5 306 & 3 785 & 3 435 & 5.4 & 78.7 \\\\\n",
      "El Salvador & \\texttt{sv} & 25 935 & 5 806 & 3 999 & 3 619 & 5.5 & 78.3 \\\\\n",
      "United States & \\texttt{us} & 23 498 & 4 234 & 2 818 & 2 572 & 5.6 & 81.9 \\\\\n",
      "Uruguay & \\texttt{uy} & 20 902 & 5 525 & 4 062 & 3 701 & 5.3 & 76.9 \\\\\n",
      "Venezuela & \\texttt{ve} & 27 123 & 5 733 & 3 924 & 3 455 & 5.5 & 81.5 \\\\\n",
      "\\end{tabular}\n",
      "\n"
     ]
    }
   ],
   "source": [
    "df_tmp = df.copy()\n",
    "df_tmp.iloc[:, 1] = df_tmp.iloc[:, 1].replace(\"no_country\", \"none\")\n",
    "df_tmp.iloc[:, 1] = df_tmp.iloc[:, 1].apply(lambda x: f\"\\\\texttt{{{x}}}\")\n",
    "\n",
    "print(\n",
    "    df_tmp.style.format(decimal='.', thousands=' ', precision=1).hide()\n",
    "    .to_latex().replace(\"#\", \"\\#\")\n",
    "    # .replace(\"texttt\", \"texttt\")\n",
    ")"
   ]
  }
 ],
 "metadata": {
  "kernelspec": {
   "display_name": "spanish-ir",
   "language": "python",
   "name": "python3"
  },
  "language_info": {
   "codemirror_mode": {
    "name": "ipython",
    "version": 3
   },
   "file_extension": ".py",
   "mimetype": "text/x-python",
   "name": "python",
   "nbconvert_exporter": "python",
   "pygments_lexer": "ipython3",
   "version": "3.10.14"
  }
 },
 "nbformat": 4,
 "nbformat_minor": 2
}
