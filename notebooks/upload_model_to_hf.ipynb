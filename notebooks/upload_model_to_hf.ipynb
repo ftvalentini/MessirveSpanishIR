{
 "cells": [
  {
   "cell_type": "code",
   "execution_count": null,
   "id": "a4920c21",
   "metadata": {},
   "outputs": [],
   "source": [
    "# NOTE in terminal requires: `huggingface-cli login` with HF_FULL_TOKEN."
   ]
  },
  {
   "cell_type": "code",
   "execution_count": null,
   "id": "130a41c5",
   "metadata": {},
   "outputs": [
    {
     "name": "stderr",
     "output_type": "stream",
     "text": [
      "/home/fvalentini/miniconda3/envs/spanish-ir/lib/python3.10/site-packages/transformers/utils/generic.py:441: FutureWarning: `torch.utils._pytree._register_pytree_node` is deprecated. Please use `torch.utils._pytree.register_pytree_node` instead.\n",
      "  _torch_pytree._register_pytree_node(\n",
      "/home/fvalentini/miniconda3/envs/spanish-ir/lib/python3.10/site-packages/transformers/utils/generic.py:309: FutureWarning: `torch.utils._pytree._register_pytree_node` is deprecated. Please use `torch.utils._pytree.register_pytree_node` instead.\n",
      "  _torch_pytree._register_pytree_node(\n",
      "/home/fvalentini/miniconda3/envs/spanish-ir/lib/python3.10/site-packages/transformers/utils/generic.py:309: FutureWarning: `torch.utils._pytree._register_pytree_node` is deprecated. Please use `torch.utils._pytree.register_pytree_node` instead.\n",
      "  _torch_pytree._register_pytree_node(\n",
      "/home/fvalentini/miniconda3/envs/spanish-ir/lib/python3.10/site-packages/transformers/modeling_utils.py:484: FutureWarning: You are using `torch.load` with `weights_only=False` (the current default value), which uses the default pickle module implicitly. It is possible to construct malicious pickle data which will execute arbitrary code during unpickling (See https://github.com/pytorch/pytorch/blob/main/SECURITY.md#untrusted-models for more details). In a future release, the default value for `weights_only` will be flipped to `True`. This limits the functions that could be executed during unpickling. Arbitrary objects will no longer be allowed to be loaded via this mode unless they are explicitly allowlisted by the user via `torch.serialization.add_safe_globals`. We recommend you start setting `weights_only=True` for any use case where you don't have full control of the loaded file. Please open an issue on GitHub for any issues related to this experimental feature.\n",
      "  return torch.load(checkpoint_file, map_location=map_location)\n"
     ]
    }
   ],
   "source": [
    "from transformers import AutoModel\n",
    "\n",
    "model = AutoModel.from_pretrained(\"../runs/messirve_training/models/multilingual-e5-large-ft-full\")"
   ]
  },
  {
   "cell_type": "code",
   "execution_count": 2,
   "id": "4e5e3906",
   "metadata": {},
   "outputs": [
    {
     "data": {
      "application/vnd.jupyter.widget-view+json": {
       "model_id": "175da61194d546e590d435d74c7b0137",
       "version_major": 2,
       "version_minor": 0
      },
      "text/plain": [
       "model.safetensors:   0%|          | 0.00/2.24G [00:00<?, ?B/s]"
      ]
     },
     "metadata": {},
     "output_type": "display_data"
    },
    {
     "data": {
      "text/plain": [
       "CommitInfo(commit_url='https://huggingface.co/spanish-ir/multilingual-e5-large-ft-messirve-full/commit/4799014ad752bae9c0785997d86a74e71adf17b9', commit_message='Upload model', commit_description='', oid='4799014ad752bae9c0785997d86a74e71adf17b9', pr_url=None, pr_revision=None, pr_num=None)"
      ]
     },
     "execution_count": 2,
     "metadata": {},
     "output_type": "execute_result"
    }
   ],
   "source": [
    "model.push_to_hub(\"spanish-ir/multilingual-e5-large-ft-messirve-full\")"
   ]
  },
  {
   "cell_type": "code",
   "execution_count": 3,
   "id": "c55757c7",
   "metadata": {},
   "outputs": [],
   "source": [
    "from transformers import AutoTokenizer\n",
    "\n",
    "tokenizer = AutoTokenizer.from_pretrained(\"../runs/messirve_training/models/multilingual-e5-large-ft-full\")"
   ]
  },
  {
   "cell_type": "code",
   "execution_count": 4,
   "id": "96b63117",
   "metadata": {},
   "outputs": [
    {
     "data": {
      "application/vnd.jupyter.widget-view+json": {
       "model_id": "a9d1a785a39f4fc9928c3725bd7c3062",
       "version_major": 2,
       "version_minor": 0
      },
      "text/plain": [
       "sentencepiece.bpe.model:   0%|          | 0.00/5.07M [00:00<?, ?B/s]"
      ]
     },
     "metadata": {},
     "output_type": "display_data"
    },
    {
     "data": {
      "application/vnd.jupyter.widget-view+json": {
       "model_id": "0374ca8cbb7d4a179b0b4dedf9aeb28c",
       "version_major": 2,
       "version_minor": 0
      },
      "text/plain": [
       "Upload 2 LFS files:   0%|          | 0/2 [00:00<?, ?it/s]"
      ]
     },
     "metadata": {},
     "output_type": "display_data"
    },
    {
     "data": {
      "application/vnd.jupyter.widget-view+json": {
       "model_id": "ac50fd99d10f4a1b8f8b7695dd2f28fe",
       "version_major": 2,
       "version_minor": 0
      },
      "text/plain": [
       "tokenizer.json:   0%|          | 0.00/17.1M [00:00<?, ?B/s]"
      ]
     },
     "metadata": {},
     "output_type": "display_data"
    },
    {
     "data": {
      "text/plain": [
       "CommitInfo(commit_url='https://huggingface.co/spanish-ir/multilingual-e5-large-ft-messirve-full/commit/633da9e3500211336e336a17b44700b2f0c73c78', commit_message='Upload tokenizer', commit_description='', oid='633da9e3500211336e336a17b44700b2f0c73c78', pr_url=None, pr_revision=None, pr_num=None)"
      ]
     },
     "execution_count": 4,
     "metadata": {},
     "output_type": "execute_result"
    }
   ],
   "source": [
    "tokenizer.push_to_hub(\"spanish-ir/multilingual-e5-large-ft-messirve-full\")\n"
   ]
  },
  {
   "cell_type": "code",
   "execution_count": 6,
   "id": "8d702c40",
   "metadata": {},
   "outputs": [],
   "source": [
    "# # test loading:\n",
    "# from transformers import AutoTokenizer, AutoModel\n",
    "# mod = AutoModel.from_pretrained(\"spanish-ir/multilingual-e5-large-ft-messirve-full\")\n",
    "# tok = AutoTokenizer.from_pretrained(\"spanish-ir/multilingual-e5-large-ft-messirve-full\")"
   ]
  },
  {
   "cell_type": "code",
   "execution_count": null,
   "id": "0f606a26",
   "metadata": {},
   "outputs": [],
   "source": []
  }
 ],
 "metadata": {
  "kernelspec": {
   "display_name": "spanish-ir",
   "language": "python",
   "name": "python3"
  },
  "language_info": {
   "codemirror_mode": {
    "name": "ipython",
    "version": 3
   },
   "file_extension": ".py",
   "mimetype": "text/x-python",
   "name": "python",
   "nbconvert_exporter": "python",
   "pygments_lexer": "ipython3",
   "version": "3.10.13"
  }
 },
 "nbformat": 4,
 "nbformat_minor": 5
}
