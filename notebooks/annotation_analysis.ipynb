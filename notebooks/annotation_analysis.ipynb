{
 "cells": [
  {
   "cell_type": "markdown",
   "metadata": {},
   "source": [
    "## Annotation analysis\n",
    "\n",
    "Let's check how cool the annotations are."
   ]
  },
  {
   "cell_type": "code",
   "execution_count": 2,
   "metadata": {},
   "outputs": [],
   "source": [
    "from datasets import load_dataset\n",
    "ds = load_dataset(\"spanish-ir/ir-relevance-annotated\", split=\"train\")"
   ]
  },
  {
   "cell_type": "code",
   "execution_count": 3,
   "metadata": {},
   "outputs": [],
   "source": [
    "import pandas as pd\n",
    "\n",
    "pd.options.display.max_colwidth = 300\n",
    "pd.options.display.max_rows = 300\n",
    "\n",
    "id_to_annotator = {\n",
    "    'b02f903f-482b-4b28-a83d-354acbb54a1e': 0,\n",
    "    '08814b5d-440f-45bf-849b-1bd802888bb6': 1,\n",
    "    'f8cbe0de-17e3-487a-9f5d-32eb9694f4d5': 2,\n",
    "}\n",
    "\n",
    "\n",
    "def flatten_record(record, variable):\n",
    "    ret = {\n",
    "        \"id\": record[\"id\"],\n",
    "        \"query\": record[\"fields\"][\"query\"],\n",
    "        \"text\": record[\"fields\"][\"text\"],\n",
    "    }\n",
    "\n",
    "    for response in record[\"responses\"][variable]:\n",
    "        annotator_id = id_to_annotator[response['user_id']]\n",
    "        val = response[\"value\"]\n",
    "\n",
    "        if val == \"sí\":\n",
    "            val = 1\n",
    "        elif val == \"no\":\n",
    "            val = 0\n",
    "        else:\n",
    "            raise ValueError(f\"Invalid value {val}\")\n",
    "\n",
    "        ret[f\"annotator_{annotator_id}\"] = val\n",
    "    return ret\n",
    "\n",
    "def get_df(ds, variable):\n",
    "\n",
    "    df = pd.DataFrame([flatten_record(rec, variable) for rec in ds])\n",
    "\n",
    "    ratings = [f\"annotator_{i}\" for i in range(3)]\n",
    "\n",
    "    df[\"sum\"] = df[ratings].sum(axis=1)\n",
    "\n",
    "    return df\n",
    "\n",
    "dfs = {\n",
    "    \"clarity\": get_df(ds, \"clarity\"),\n",
    "    \"non_ambiguity\": get_df(ds, \"non_ambiguity\"),\n",
    "    \"relevance\": get_df(ds, \"relevance\"),\n",
    "}"
   ]
  },
  {
   "cell_type": "code",
   "execution_count": 12,
   "metadata": {},
   "outputs": [
    {
     "name": "stdout",
     "output_type": "stream",
     "text": [
      "================================================================================\n",
      "Variable clarity\n",
      "Annotator 0 vs 1: κ = 0.3396, F1 = 0.9205\n",
      "Annotator 0 vs 2: κ = 0.1129, F1 = 0.9412\n",
      "Annotator 1 vs 2: κ = 0.0718, F1 = 0.9180\n",
      "Ⲕ = 0.1860\n",
      "Freq snippets 3 voters say 1   : 0.800\n",
      "Freq snippets majority is 1    : 0.930\n",
      "Freq snippets 3 voters agree   : 0.8\n",
      "Distribution                   : {3: 80, 2: 13, 1: 7}\n",
      "================================================================================\n",
      "Variable non_ambiguity\n",
      "Annotator 0 vs 1: κ = 0.0449, F1 = 0.9061\n",
      "Annotator 0 vs 2: κ = 0.3611, F1 = 0.8516\n",
      "Annotator 1 vs 2: κ = 0.0506, F1 = 0.8193\n",
      "Ⲕ = 0.1463\n",
      "Freq snippets 3 voters say 1   : 0.640\n",
      "Freq snippets majority is 1    : 0.880\n",
      "Freq snippets 3 voters agree   : 0.65\n",
      "Distribution                   : {3: 64, 2: 24, 1: 11, 0: 1}\n",
      "================================================================================\n",
      "Variable relevance\n",
      "Annotator 0 vs 1: κ = -0.0417, F1 = 0.9583\n",
      "Annotator 0 vs 2: κ = 0.0691, F1 = 0.9239\n",
      "Annotator 1 vs 2: κ = 0.2021, F1 = 0.9348\n",
      "Ⲕ = 0.0893\n",
      "Freq snippets 3 voters say 1   : 0.830\n",
      "Freq snippets majority is 1    : 0.970\n",
      "Freq snippets 3 voters agree   : 0.83\n",
      "Distribution                   : {3: 83, 2: 14, 1: 3}\n"
     ]
    }
   ],
   "source": [
    "\n",
    "from sklearn.metrics import f1_score, cohen_kappa_score\n",
    "from statsmodels.stats.inter_rater import fleiss_kappa, aggregate_raters\n",
    "\n",
    "variables = [\"clarity\", \"non_ambiguity\", \"relevance\"]\n",
    "\n",
    "for var, df in dfs.items():\n",
    "    print(\"=\"*80)\n",
    "    print(f\"Variable {var}\")\n",
    "\n",
    "    ratings = df[[f\"annotator_{i}\" for i in range(3)]].values\n",
    "    for i in range(3):\n",
    "        for j in range(i+1, 3):\n",
    "            kappa = cohen_kappa_score(ratings[:, i], ratings[:, j])\n",
    "            f1 = f1_score(ratings[:, i], ratings[:, j])\n",
    "\n",
    "            print(f\"Annotator {i} vs {j}: κ = {kappa:.4f}, F1 = {f1:.4f}\")\n",
    "\n",
    "    table, _ = aggregate_raters(ratings)\n",
    "    print(f\"Ⲕ = {fleiss_kappa(table):.4f}\")\n",
    "\n",
    "    print(f\"Freq snippets 3 voters say 1   : {(df['sum'] == 3).mean():.3f}\")\n",
    "    print(f\"Freq snippets majority is 1    : {( df['sum'] >= 2).mean():.3f}\")\n",
    "    print(f\"Freq snippets 3 voters agree   : {(df['sum'].apply(lambda x: x % 3) == 0).mean()}\")\n",
    "    print(f\"Distribution                   : {df['sum'].value_counts().sort_index(ascending=False).to_dict()}\")"
   ]
  },
  {
   "cell_type": "code",
   "execution_count": 4,
   "metadata": {},
   "outputs": [
    {
     "name": "stdout",
     "output_type": "stream",
     "text": [
      "annotator_0    90\n",
      "annotator_1    86\n",
      "annotator_2    97\n",
      "dtype: int64\n",
      "annotator_0    85\n",
      "annotator_1    96\n",
      "annotator_2    70\n",
      "dtype: int64\n",
      "annotator_0    96\n",
      "annotator_1    96\n",
      "annotator_2    88\n",
      "dtype: int64\n"
     ]
    }
   ],
   "source": [
    "for var, df in dfs.items():\n",
    "    print(df[[\"annotator_0\", \"annotator_1\", \"annotator_2\"]].sum(axis=0))"
   ]
  }
 ],
 "metadata": {
  "kernelspec": {
   "display_name": "spanish-ir",
   "language": "python",
   "name": "python3"
  },
  "language_info": {
   "codemirror_mode": {
    "name": "ipython",
    "version": 3
   },
   "file_extension": ".py",
   "mimetype": "text/x-python",
   "name": "python",
   "nbconvert_exporter": "python",
   "pygments_lexer": "ipython3",
   "version": "3.10.14"
  }
 },
 "nbformat": 4,
 "nbformat_minor": 2
}
